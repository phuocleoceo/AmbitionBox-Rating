{
 "cells": [
  {
   "cell_type": "markdown",
   "metadata": {},
   "source": [
    "### Import các thư viện cần thiết"
   ]
  },
  {
   "cell_type": "code",
   "execution_count": 34,
   "metadata": {},
   "outputs": [],
   "source": [
    "from sklearn.model_selection import (train_test_split, cross_val_score, GridSearchCV)\n",
    "from sklearn.metrics import accuracy_score,confusion_matrix\n",
    "from sklearn.ensemble import RandomForestClassifier\n",
    "from sklearn.preprocessing import StandardScaler\n",
    "from sklearn.utils import resample, shuffle\n",
    "from sklearn.decomposition import PCA\n",
    "import matplotlib.pyplot as plt\n",
    "from sklearn.svm import SVC\n",
    "import seaborn as sns\n",
    "import pandas as pd\n",
    "import numpy as np\n",
    "\n",
    "np.random.seed(561)\n",
    "sns.set(rc={\"figure.figsize\":(10, 8)})"
   ]
  },
  {
   "cell_type": "code",
   "execution_count": 35,
   "metadata": {},
   "outputs": [
    {
     "data": {
      "text/html": [
       "<div>\n",
       "<style scoped>\n",
       "    .dataframe tbody tr th:only-of-type {\n",
       "        vertical-align: middle;\n",
       "    }\n",
       "\n",
       "    .dataframe tbody tr th {\n",
       "        vertical-align: top;\n",
       "    }\n",
       "\n",
       "    .dataframe thead th {\n",
       "        text-align: right;\n",
       "    }\n",
       "</style>\n",
       "<table border=\"1\" class=\"dataframe\">\n",
       "  <thead>\n",
       "    <tr style=\"text-align: right;\">\n",
       "      <th></th>\n",
       "      <th>TotalEmployees</th>\n",
       "      <th>TotalEmployeesIndia</th>\n",
       "      <th>Rating</th>\n",
       "      <th>CompanyType</th>\n",
       "      <th>Name</th>\n",
       "      <th>CompanyReviewsLive</th>\n",
       "      <th>CompanySalaries</th>\n",
       "      <th>InterviewExperiencesLive</th>\n",
       "      <th>Age</th>\n",
       "      <th>HQCountry</th>\n",
       "      <th>Headquarters</th>\n",
       "      <th>CompanyJobsLive</th>\n",
       "      <th>LocationCount</th>\n",
       "      <th>Industry</th>\n",
       "    </tr>\n",
       "  </thead>\n",
       "  <tbody>\n",
       "    <tr>\n",
       "      <th>0</th>\n",
       "      <td>100001.0</td>\n",
       "      <td>100001.0</td>\n",
       "      <td>1</td>\n",
       "      <td>Public</td>\n",
       "      <td>Tata Consultancy Services</td>\n",
       "      <td>41589</td>\n",
       "      <td>394003</td>\n",
       "      <td>2783</td>\n",
       "      <td>54</td>\n",
       "      <td>India</td>\n",
       "      <td>Mumbai</td>\n",
       "      <td>55</td>\n",
       "      <td>240</td>\n",
       "      <td>BPO / Call Centre,IT Services &amp; Consulting</td>\n",
       "    </tr>\n",
       "    <tr>\n",
       "      <th>1</th>\n",
       "      <td>100001.0</td>\n",
       "      <td>100001.0</td>\n",
       "      <td>2</td>\n",
       "      <td>Public</td>\n",
       "      <td>Accenture</td>\n",
       "      <td>27770</td>\n",
       "      <td>268685</td>\n",
       "      <td>2177</td>\n",
       "      <td>33</td>\n",
       "      <td>Ireland</td>\n",
       "      <td>Dublin</td>\n",
       "      <td>7294</td>\n",
       "      <td>132</td>\n",
       "      <td>IT Services &amp; Consulting,Software Product</td>\n",
       "    </tr>\n",
       "    <tr>\n",
       "      <th>2</th>\n",
       "      <td>100001.0</td>\n",
       "      <td>100001.0</td>\n",
       "      <td>1</td>\n",
       "      <td>Private</td>\n",
       "      <td>Cognizant</td>\n",
       "      <td>25176</td>\n",
       "      <td>272214</td>\n",
       "      <td>1748</td>\n",
       "      <td>28</td>\n",
       "      <td>United States (USA)</td>\n",
       "      <td>Teaneck</td>\n",
       "      <td>316</td>\n",
       "      <td>88</td>\n",
       "      <td>IT Services &amp; Consulting</td>\n",
       "    </tr>\n",
       "    <tr>\n",
       "      <th>3</th>\n",
       "      <td>100001.0</td>\n",
       "      <td>100001.0</td>\n",
       "      <td>2</td>\n",
       "      <td>Public</td>\n",
       "      <td>ICICI Bank</td>\n",
       "      <td>32063</td>\n",
       "      <td>100049</td>\n",
       "      <td>940</td>\n",
       "      <td>28</td>\n",
       "      <td>India</td>\n",
       "      <td>Mumbai</td>\n",
       "      <td>150</td>\n",
       "      <td>995</td>\n",
       "      <td>Financial Services,Banking</td>\n",
       "    </tr>\n",
       "    <tr>\n",
       "      <th>4</th>\n",
       "      <td>100001.0</td>\n",
       "      <td>100001.0</td>\n",
       "      <td>1</td>\n",
       "      <td>Public</td>\n",
       "      <td>Wipro</td>\n",
       "      <td>23674</td>\n",
       "      <td>200635</td>\n",
       "      <td>1819</td>\n",
       "      <td>77</td>\n",
       "      <td>India</td>\n",
       "      <td>Bangalore/Bengaluru</td>\n",
       "      <td>520</td>\n",
       "      <td>254</td>\n",
       "      <td>IT Services &amp; Consulting</td>\n",
       "    </tr>\n",
       "  </tbody>\n",
       "</table>\n",
       "</div>"
      ],
      "text/plain": [
       "   TotalEmployees  TotalEmployeesIndia  Rating CompanyType  \\\n",
       "0        100001.0             100001.0       1      Public   \n",
       "1        100001.0             100001.0       2      Public   \n",
       "2        100001.0             100001.0       1     Private   \n",
       "3        100001.0             100001.0       2      Public   \n",
       "4        100001.0             100001.0       1      Public   \n",
       "\n",
       "                        Name  CompanyReviewsLive  CompanySalaries  \\\n",
       "0  Tata Consultancy Services               41589           394003   \n",
       "1                  Accenture               27770           268685   \n",
       "2                  Cognizant               25176           272214   \n",
       "3                 ICICI Bank               32063           100049   \n",
       "4                      Wipro               23674           200635   \n",
       "\n",
       "   InterviewExperiencesLive  Age            HQCountry         Headquarters  \\\n",
       "0                      2783   54                India               Mumbai   \n",
       "1                      2177   33              Ireland               Dublin   \n",
       "2                      1748   28  United States (USA)              Teaneck   \n",
       "3                       940   28                India               Mumbai   \n",
       "4                      1819   77                India  Bangalore/Bengaluru   \n",
       "\n",
       "   CompanyJobsLive  LocationCount                                    Industry  \n",
       "0               55            240  BPO / Call Centre,IT Services & Consulting  \n",
       "1             7294            132   IT Services & Consulting,Software Product  \n",
       "2              316             88                    IT Services & Consulting  \n",
       "3              150            995                  Financial Services,Banking  \n",
       "4              520            254                    IT Services & Consulting  "
      ]
     },
     "execution_count": 35,
     "metadata": {},
     "output_type": "execute_result"
    }
   ],
   "source": [
    "dataset = pd.read_csv(\"../clean-data/clean_data.csv\")\n",
    "dataset.head()"
   ]
  },
  {
   "cell_type": "code",
   "execution_count": 36,
   "metadata": {},
   "outputs": [
    {
     "name": "stdout",
     "output_type": "stream",
     "text": [
      "Kích thước dataset :  (9988, 14)\n"
     ]
    }
   ],
   "source": [
    "print(\"Kích thước dataset : \", dataset.shape)"
   ]
  },
  {
   "cell_type": "code",
   "execution_count": 37,
   "metadata": {},
   "outputs": [],
   "source": [
    "dataset.drop(dataset[dataset[\"Rating\"] == 0].index, inplace=True)"
   ]
  },
  {
   "cell_type": "code",
   "execution_count": 38,
   "metadata": {},
   "outputs": [
    {
     "name": "stdout",
     "output_type": "stream",
     "text": [
      "Kích thước dataset :  (9775, 14)\n"
     ]
    }
   ],
   "source": [
    "print(\"Kích thước dataset : \", dataset.shape)\n"
   ]
  },
  {
   "cell_type": "markdown",
   "metadata": {},
   "source": [
    "# Xử lý dữ liệu mất cân bằng trên toàn bộ dataset"
   ]
  },
  {
   "cell_type": "code",
   "execution_count": 18,
   "metadata": {},
   "outputs": [],
   "source": [
    "# dataset_samples = len(dataset)\n",
    "\n",
    "# rating_2 = dataset[dataset[\"Rating\"] == 2]\n",
    "# rating_3 = dataset[dataset[\"Rating\"] == 3]\n",
    "# rating_4 = dataset[dataset[\"Rating\"] == 4]\n",
    "# rating_5 = dataset[dataset[\"Rating\"] == 5]\n",
    "# print(len(rating_2), len(rating_3), len(rating_4), len(rating_5))\n",
    "\n",
    "# rating_2 = resample(rating_2, replace=True, n_samples=int(0.05*dataset_samples))\n",
    "# rating_3 = resample(rating_3, replace=True, n_samples=int(0.25*dataset_samples))\n",
    "# rating_4 = resample(rating_4, replace=True, n_samples=int(0.55*dataset_samples))\n",
    "# rating_5 = resample(rating_5, replace=True, n_samples=int(0.15*dataset_samples))\n",
    "# print(len(rating_2), len(rating_3), len(rating_4), len(rating_5))\n",
    "\n",
    "# dataset = pd.concat([rating_2, rating_3, rating_4, rating_5])\n",
    "# # Xáo trộn ngẫu nhiên lại dataset\n",
    "# dataset = shuffle(dataset)\n",
    "\n",
    "# plt.figure(figsize=(4, 4))\n",
    "# sns.countplot(data=dataset, x=\"Rating\")\n",
    "# plt.xlabel(\"Rating\")\n",
    "# plt.ylabel(\"Số lượng\")"
   ]
  },
  {
   "cell_type": "markdown",
   "metadata": {},
   "source": [
    "## Chia dữ liệu Train / Test"
   ]
  },
  {
   "cell_type": "markdown",
   "metadata": {},
   "source": [
    "Chia theo tỉ lệ 20/80, stratify theo Potability để tỉ lệ nước uống được/không uống được bằng nhau ở 2 tập train và test"
   ]
  },
  {
   "cell_type": "code",
   "execution_count": 39,
   "metadata": {},
   "outputs": [
    {
     "data": {
      "text/plain": [
       "((7820, 8), (1955, 8))"
      ]
     },
     "execution_count": 39,
     "metadata": {},
     "output_type": "execute_result"
    }
   ],
   "source": [
    "X_columns = [\"TotalEmployees\", \"TotalEmployeesIndia\", \"CompanyReviewsLive\", \"CompanySalaries\", \n",
    "             \"InterviewExperiencesLive\", \"Age\", \"CompanyJobsLive\", \"LocationCount\"]\n",
    "Y_columns = \"Rating\"\n",
    "\n",
    "X_train, X_test, Y_train, Y_test = train_test_split(dataset[X_columns].fillna(0),\n",
    "                                                    dataset[Y_columns],\n",
    "                                                    test_size=0.2, \n",
    "                                                    stratify=dataset[Y_columns],\n",
    "                                                    random_state=42)\n",
    "\n",
    "X_train.shape, X_test.shape"
   ]
  },
  {
   "cell_type": "markdown",
   "metadata": {},
   "source": [
    "Tỉ lệ nước uống được/không uống được ở 2 tập train và test"
   ]
  },
  {
   "cell_type": "code",
   "execution_count": 40,
   "metadata": {},
   "outputs": [
    {
     "data": {
      "text/plain": [
       "<AxesSubplot:ylabel='Rating'>"
      ]
     },
     "execution_count": 40,
     "metadata": {},
     "output_type": "execute_result"
    },
    {
     "data": {
      "image/png": "[encoded data removed]",
      "text/plain": [
       "<Figure size 576x576 with 2 Axes>"
      ]
     },
     "metadata": {},
     "output_type": "display_data"
    }
   ],
   "source": [
    "plt.subplot(1, 2, 1)\n",
    "Y_train.value_counts().plot.pie(figsize=(8, 8), shadow=True, autopct='%1.2f%%')\n",
    "\n",
    "plt.subplot(1, 2, 2)\n",
    "Y_test.value_counts().plot.pie(figsize=(8, 8), shadow=True, autopct='%1.2f%%')"
   ]
  },
  {
   "cell_type": "markdown",
   "metadata": {},
   "source": [
    "## Xử lý dữ liệu mất cân bằng trên tập Train"
   ]
  },
  {
   "cell_type": "code",
   "execution_count": 21,
   "metadata": {},
   "outputs": [],
   "source": [
    "# # Tạm gộp X và Y lại\n",
    "# train_dataset = X_train.copy()\n",
    "# train_dataset[\"Rating\"]=Y_train\n",
    "# train_dataset_samples = len(train_dataset)\n",
    "\n",
    "# rating_2 = train_dataset[train_dataset[\"Rating\"] == 2]\n",
    "# rating_3 = train_dataset[train_dataset[\"Rating\"] == 3]\n",
    "# rating_4 = train_dataset[train_dataset[\"Rating\"] == 4]\n",
    "# rating_5 = train_dataset[train_dataset[\"Rating\"] == 5]\n",
    "# print(len(rating_2), len(rating_3), len(rating_4), len(rating_5))\n",
    "\n",
    "# rating_2 = resample(rating_2, replace=True, n_samples=int(0.05*train_dataset_samples))\n",
    "# rating_3 = resample(rating_3, replace=True, n_samples=int(0.25*train_dataset_samples))\n",
    "# rating_4 = resample(rating_4, replace=True, n_samples=int(0.55*train_dataset_samples))\n",
    "# rating_5 = resample(rating_5, replace=True, n_samples=int(0.15*train_dataset_samples))\n",
    "# print(len(rating_2), len(rating_3), len(rating_4), len(rating_5))\n",
    "\n",
    "# train_dataset = pd.concat([rating_2, rating_3, rating_4, rating_5])\n",
    "# # Xáo trộn ngẫu nhiên lại train_dataset\n",
    "# train_dataset = shuffle(train_dataset)\n",
    "\n",
    "# # Lấy lại X và Y\n",
    "# X_train = train_dataset[X_columns]\n",
    "# Y_train = train_dataset[Y_columns]\n",
    "\n",
    "# plt.figure(figsize=(4, 4))\n",
    "# sns.countplot(data=train_dataset, x=\"Rating\")\n",
    "# plt.xlabel(\"Rating\")\n",
    "# plt.ylabel(\"Số lượng\")"
   ]
  },
  {
   "cell_type": "markdown",
   "metadata": {},
   "source": [
    "## Xử lý Outlier cho tập Train, tập Test giữ nguyên Outlier : "
   ]
  },
  {
   "cell_type": "code",
   "execution_count": 22,
   "metadata": {},
   "outputs": [],
   "source": [
    "# def Remove_Outlier(dataset):\n",
    "#     data = dataset.copy()\n",
    "#     for col in data.columns:\n",
    "#         lower_boundary = round(data[col].mean() - 3* data[col].std())\n",
    "#         upper_boundary = round(data[col].mean() + 3 * data[col].std())\n",
    "#         data.loc[data[col] <= lower_boundary, col] = lower_boundary\n",
    "#         data.loc[data[col] >= upper_boundary, col] = upper_boundary\n",
    "#     return data"
   ]
  },
  {
   "cell_type": "code",
   "execution_count": 23,
   "metadata": {},
   "outputs": [],
   "source": [
    "# # Tập X_train gốc có xử lý ngoại lệ\n",
    "# X_train_outlier = Remove_Outlier(X_train)\n",
    "# X_train_outlier.shape"
   ]
  },
  {
   "cell_type": "markdown",
   "metadata": {},
   "source": [
    "## Chuẩn hóa Z-score"
   ]
  },
  {
   "cell_type": "markdown",
   "metadata": {},
   "source": [
    "Áp dụng chuẩn hóa bằng cách fit cho tập Train và dùng bộ tham số đó để transform cho cả tập Train và Test "
   ]
  },
  {
   "cell_type": "code",
   "execution_count": 41,
   "metadata": {},
   "outputs": [],
   "source": [
    "X_test_outlier = X_test.copy()\n",
    "\n",
    "# Chuẩn hóa tập Train gốc\n",
    "scaler = StandardScaler()\n",
    "scaler.fit(X_train)\n",
    "X_train = pd.DataFrame(scaler.transform(X_train), columns=X_train.columns)\n",
    "# Sử dụng lại chính scaler của tập Train để chuẩn hóa cho tập Test\n",
    "X_test = pd.DataFrame(scaler.transform(X_test), columns=X_test.columns)\n",
    "\n",
    "# Chuẩn hóa tập Train gốc có xử lý ngoại lệ\n",
    "# scaler = StandardScaler()\n",
    "# scaler.fit(X_train_outlier)\n",
    "# X_train_outlier = pd.DataFrame(scaler.transform(X_train_outlier), columns=X_train_outlier.columns)\n",
    "# X_test_outlier = pd.DataFrame(scaler.transform(X_test_outlier), columns=X_test_outlier.columns)"
   ]
  },
  {
   "cell_type": "markdown",
   "metadata": {},
   "source": [
    "## Hyperparameter Tuning"
   ]
  },
  {
   "cell_type": "markdown",
   "metadata": {},
   "source": [
    "Hàm format độ chính xác về %"
   ]
  },
  {
   "cell_type": "code",
   "execution_count": 42,
   "metadata": {},
   "outputs": [],
   "source": [
    "def acc(accuracy):\n",
    "    return f\"{round(accuracy*100, 2)} (%)\""
   ]
  },
  {
   "cell_type": "markdown",
   "metadata": {},
   "source": [
    "Tìm kiếm các siêu tham số tốt nhất cho mô hình bằng tập Train, đồng thời đánh giá độ chính xác thu được khi áp dụng cho tập Test"
   ]
  },
  {
   "cell_type": "code",
   "execution_count": 43,
   "metadata": {},
   "outputs": [
    {
     "name": "stdout",
     "output_type": "stream",
     "text": [
      ">> X_train gốc : \n",
      "Best : 65.68 (%) using {'min_samples_leaf': 1, 'n_estimators': 400}\n",
      "Test set : 66.04 (%)\n"
     ]
    }
   ],
   "source": [
    "def hyperparameter_tuning_rfc(XTrain, YTrain, XTest, YTest):\n",
    "    random_forest = RandomForestClassifier(random_state=42)\n",
    "    # params = {\n",
    "    #     \"n_estimators\": [100, 200, 300, 400], \n",
    "    #     \"min_samples_leaf\": [1, 2, 10]\n",
    "    # }\n",
    "    params = {\n",
    "        \"n_estimators\": [100, 200,300,400],\n",
    "        \"min_samples_leaf\": [1, 2, 10]\n",
    "    }\n",
    "    search = GridSearchCV(estimator=random_forest, param_grid=params, cv=5, n_jobs=-1)\n",
    "    search.fit(XTrain, YTrain)\n",
    "    # Kết quả Tuning tốt nhất\n",
    "    print(f\"Best : {acc(search.best_score_)} using {search.best_params_}\")\n",
    "    print(f\"Test set : {acc(search.score(XTest, YTest))}\")\n",
    "    return search.best_params_\n",
    "\n",
    "\n",
    "print(\">> X_train gốc : \")\n",
    "best_params_1 = hyperparameter_tuning_rfc(X_train, Y_train, X_test, Y_test)\n",
    "# print(\">> X_train gốc có xử lý ngoại lệ : \")\n",
    "# best_params_2 = hyperparameter_tuning_rfc(X_train_outlier, Y_train, X_test_outlier, Y_test)"
   ]
  },
  {
   "cell_type": "code",
   "execution_count": 44,
   "metadata": {},
   "outputs": [
    {
     "name": "stdout",
     "output_type": "stream",
     "text": [
      "0.6603580562659846\n"
     ]
    },
    {
     "data": {
      "image/png": "[encoded data removed]",
      "text/plain": [
       "<Figure size 720x576 with 2 Axes>"
      ]
     },
     "metadata": {},
     "output_type": "display_data"
    }
   ],
   "source": [
    "def RF_Model(XTrain, YTrain, XTest, YTest,best_params):\n",
    "    random_forest = RandomForestClassifier(n_estimators=best_params[\"n_estimators\"],\n",
    "                                           min_samples_leaf=best_params[\"min_samples_leaf\"],\n",
    "                                           random_state=42)\n",
    "    random_forest.fit(XTrain,YTrain)\n",
    "    Y_pred = random_forest.predict(XTest)\n",
    "    sns.heatmap(confusion_matrix(YTest, Y_pred), cmap=\"YlGnBu\", annot=True, fmt='g')\n",
    "    print(accuracy_score(YTest,Y_pred))\n",
    "\n",
    "\n",
    "RF_Model(X_train, Y_train, X_test, Y_test, best_params_1)\n"
   ]
  },
  {
   "cell_type": "markdown",
   "metadata": {},
   "source": [
    "# SVM"
   ]
  },
  {
   "cell_type": "code",
   "execution_count": 45,
   "metadata": {},
   "outputs": [
    {
     "name": "stdout",
     "output_type": "stream",
     "text": [
      ">> X_train gốc : \n",
      "Best : 59.48 (%) using {'C': 10, 'gamma': 'scale', 'kernel': 'rbf'}\n",
      "Test set : 61.74 (%)\n"
     ]
    }
   ],
   "source": [
    "def hyperparameter_tuning_svm(XTrain, YTrain, XTest, YTest):\n",
    "    svm_model = SVC()\n",
    "    params = {\n",
    "        'C': [0.1,1,10],\n",
    "        'gamma': ['scale','auto'],\n",
    "        'kernel': ['rbf','linear']\n",
    "    }\n",
    "    search = GridSearchCV(estimator=svm_model, param_grid=params, cv=5, n_jobs=-1)\n",
    "    search.fit(XTrain, YTrain)\n",
    "    # Kết quả Tuning tốt nhất\n",
    "    print(f\"Best : {acc(search.best_score_)} using {search.best_params_}\")\n",
    "    print(f\"Test set : {acc(search.score(XTest, YTest))}\")\n",
    "    return search.best_params_\n",
    "\n",
    "\n",
    "print(\">> X_train gốc : \")\n",
    "best_params_1 = hyperparameter_tuning_svm(X_train, Y_train, X_test, Y_test)\n",
    "# print(\">> X_train gốc có xử lý ngoại lệ : \")\n",
    "# best_params_2 = hyperparameter_tuning_svm(X_train_outlier, Y_train, X_test_outlier, Y_test)"
   ]
  },
  {
   "cell_type": "code",
   "execution_count": 46,
   "metadata": {},
   "outputs": [
    {
     "name": "stdout",
     "output_type": "stream",
     "text": [
      "0.6173913043478261\n"
     ]
    },
    {
     "data": {
      "image/png": "[encoded data removed]",
      "text/plain": [
       "<Figure size 720x576 with 2 Axes>"
      ]
     },
     "metadata": {},
     "output_type": "display_data"
    }
   ],
   "source": [
    "def SVM_Model(XTrain, YTrain, XTest, YTest, best_params):\n",
    "    svm_model = SVC(C=best_params[\"C\"],\n",
    "                    gamma=best_params[\"gamma\"],\n",
    "                    kernel=best_params[\"kernel\"])\n",
    "    svm_model.fit(XTrain, YTrain)\n",
    "    Y_pred = svm_model.predict(XTest)\n",
    "    sns.heatmap(confusion_matrix(YTest, Y_pred), cmap=\"YlGnBu\", annot=True, fmt='g')\n",
    "    print(accuracy_score(YTest, Y_pred))\n",
    "\n",
    "\n",
    "SVM_Model(X_train, Y_train, X_test, Y_test, best_params_1)\n"
   ]
  },
  {
   "cell_type": "markdown",
   "metadata": {},
   "source": [
    "## Huấn luyện lại Model trên toàn bộ dữ liệu ở 4 trường hợp"
   ]
  },
  {
   "cell_type": "code",
   "execution_count": null,
   "metadata": {},
   "outputs": [],
   "source": [
    "# def cross_val_model(X, Y, best_params):\n",
    "#     model = RandomForestClassifier(\n",
    "#         n_estimators=best_params[\"n_estimators\"],\n",
    "#         min_samples_leaf=best_params[\"min_samples_leaf\"],\n",
    "#         random_state=42)\n",
    "#     scores = cross_val_score(model, X, Y, cv=5)\n",
    "#     print(acc(np.mean(scores)))\n",
    "\n",
    "\n",
    "# print(\">> X_train gốc : \")\n",
    "# cross_val_model(pd.concat([X_train, X_test]), pd.concat([Y_train, Y_test]), best_params_1)\n",
    "# print(\">> X_train gốc có xử lý ngoại lệ : \")\n",
    "# cross_val_model(pd.concat([X_train_outlier, X_test_outlier]), pd.concat([Y_train, Y_test]), best_params_2)\n"
   ]
  }
 ],
 "metadata": {
  "interpreter": {
   "hash": "aee8b7b246df8f9039afb4144a1f6fd8d2ca17a180786b69acc140d282b71a49"
  },
  "kernelspec": {
   "display_name": "Python 3.9.7 64-bit",
   "language": "python",
   "name": "python3"
  },
  "language_info": {
   "codemirror_mode": {
    "name": "ipython",
    "version": 3
   },
   "file_extension": ".py",
   "mimetype": "text/x-python",
   "name": "python",
   "nbconvert_exporter": "python",
   "pygments_lexer": "ipython3",
   "version": "3.9.7"
  },
  "orig_nbformat": 4
 },
 "nbformat": 4,
 "nbformat_minor": 2
}
