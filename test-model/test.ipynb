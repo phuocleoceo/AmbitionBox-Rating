{
 "cells": [
  {
   "cell_type": "markdown",
   "metadata": {},
   "source": [
    "### Import các thư viện cần thiết"
   ]
  },
  {
   "cell_type": "code",
   "execution_count": 37,
   "metadata": {},
   "outputs": [],
   "source": [
    "from sklearn.model_selection import (train_test_split, cross_val_score, GridSearchCV)\n",
    "from sklearn.metrics import accuracy_score,confusion_matrix\n",
    "from sklearn.ensemble import RandomForestClassifier\n",
    "from sklearn.preprocessing import StandardScaler\n",
    "from sklearn.utils import resample, shuffle\n",
    "from sklearn.decomposition import PCA\n",
    "import matplotlib.pyplot as plt\n",
    "from sklearn.svm import SVC\n",
    "import seaborn as sns\n",
    "import pandas as pd\n",
    "import numpy as np\n",
    "\n",
    "np.random.seed(561)\n",
    "sns.set(rc={\"figure.figsize\":(10, 8)})"
   ]
  },
  {
   "cell_type": "code",
   "execution_count": 38,
   "metadata": {},
   "outputs": [
    {
     "data": {
      "text/html": [
       "<div>\n",
       "<style scoped>\n",
       "    .dataframe tbody tr th:only-of-type {\n",
       "        vertical-align: middle;\n",
       "    }\n",
       "\n",
       "    .dataframe tbody tr th {\n",
       "        vertical-align: top;\n",
       "    }\n",
       "\n",
       "    .dataframe thead th {\n",
       "        text-align: right;\n",
       "    }\n",
       "</style>\n",
       "<table border=\"1\" class=\"dataframe\">\n",
       "  <thead>\n",
       "    <tr style=\"text-align: right;\">\n",
       "      <th></th>\n",
       "      <th>Unnamed: 0</th>\n",
       "      <th>TotalEmployees</th>\n",
       "      <th>TotalEmployeesIndia</th>\n",
       "      <th>Rating</th>\n",
       "      <th>UrlName</th>\n",
       "      <th>CompanyType</th>\n",
       "      <th>Name</th>\n",
       "      <th>CompanyReviewsLive</th>\n",
       "      <th>CompanySalaries</th>\n",
       "      <th>InterviewExperiencesLive</th>\n",
       "      <th>Age</th>\n",
       "      <th>ShortName</th>\n",
       "      <th>Logo</th>\n",
       "      <th>HQCountry</th>\n",
       "      <th>headquaters</th>\n",
       "      <th>CompanyJobsLive</th>\n",
       "      <th>HQUrlName</th>\n",
       "      <th>CompanyId</th>\n",
       "      <th>location_count</th>\n",
       "      <th>industry_string</th>\n",
       "    </tr>\n",
       "  </thead>\n",
       "  <tbody>\n",
       "    <tr>\n",
       "      <th>0</th>\n",
       "      <td>0</td>\n",
       "      <td>100001.0</td>\n",
       "      <td>100001.0</td>\n",
       "      <td>4</td>\n",
       "      <td>tcs</td>\n",
       "      <td>Public</td>\n",
       "      <td>Tata Consultancy Services</td>\n",
       "      <td>41589</td>\n",
       "      <td>394003</td>\n",
       "      <td>2783</td>\n",
       "      <td>54</td>\n",
       "      <td>TCS</td>\n",
       "      <td>tcs</td>\n",
       "      <td>India</td>\n",
       "      <td>Mumbai,Maharashtra</td>\n",
       "      <td>55</td>\n",
       "      <td>mumbai</td>\n",
       "      <td>42</td>\n",
       "      <td>240</td>\n",
       "      <td>BPO / Call Centre,IT Services &amp; Consulting</td>\n",
       "    </tr>\n",
       "    <tr>\n",
       "      <th>1</th>\n",
       "      <td>1</td>\n",
       "      <td>100001.0</td>\n",
       "      <td>100001.0</td>\n",
       "      <td>4</td>\n",
       "      <td>accenture</td>\n",
       "      <td>Public</td>\n",
       "      <td>Accenture</td>\n",
       "      <td>27770</td>\n",
       "      <td>268685</td>\n",
       "      <td>2177</td>\n",
       "      <td>33</td>\n",
       "      <td>Accenture</td>\n",
       "      <td>accenture</td>\n",
       "      <td>Ireland</td>\n",
       "      <td>Dublin,Dublin</td>\n",
       "      <td>7294</td>\n",
       "      <td>NaN</td>\n",
       "      <td>273</td>\n",
       "      <td>132</td>\n",
       "      <td>IT Services &amp; Consulting,Software Product</td>\n",
       "    </tr>\n",
       "    <tr>\n",
       "      <th>2</th>\n",
       "      <td>2</td>\n",
       "      <td>100001.0</td>\n",
       "      <td>100001.0</td>\n",
       "      <td>4</td>\n",
       "      <td>cognizant</td>\n",
       "      <td>Private</td>\n",
       "      <td>Cognizant</td>\n",
       "      <td>25176</td>\n",
       "      <td>272214</td>\n",
       "      <td>1748</td>\n",
       "      <td>28</td>\n",
       "      <td>Cognizant</td>\n",
       "      <td>cognizant-technology-solutions</td>\n",
       "      <td>United States (USA)</td>\n",
       "      <td>Teaneck,New Jersey</td>\n",
       "      <td>316</td>\n",
       "      <td>NaN</td>\n",
       "      <td>43</td>\n",
       "      <td>88</td>\n",
       "      <td>IT Services &amp; Consulting</td>\n",
       "    </tr>\n",
       "    <tr>\n",
       "      <th>3</th>\n",
       "      <td>3</td>\n",
       "      <td>100001.0</td>\n",
       "      <td>100001.0</td>\n",
       "      <td>4</td>\n",
       "      <td>icici-bank</td>\n",
       "      <td>Public</td>\n",
       "      <td>ICICI Bank</td>\n",
       "      <td>32063</td>\n",
       "      <td>100049</td>\n",
       "      <td>940</td>\n",
       "      <td>28</td>\n",
       "      <td>ICICI Bank</td>\n",
       "      <td>icici_bank</td>\n",
       "      <td>India</td>\n",
       "      <td>Mumbai,Maharashtra</td>\n",
       "      <td>150</td>\n",
       "      <td>mumbai</td>\n",
       "      <td>134</td>\n",
       "      <td>995</td>\n",
       "      <td>Financial Services,Banking</td>\n",
       "    </tr>\n",
       "    <tr>\n",
       "      <th>4</th>\n",
       "      <td>4</td>\n",
       "      <td>100001.0</td>\n",
       "      <td>100001.0</td>\n",
       "      <td>4</td>\n",
       "      <td>wipro</td>\n",
       "      <td>Public</td>\n",
       "      <td>Wipro</td>\n",
       "      <td>23674</td>\n",
       "      <td>200635</td>\n",
       "      <td>1819</td>\n",
       "      <td>77</td>\n",
       "      <td>Wipro</td>\n",
       "      <td>wipro</td>\n",
       "      <td>India</td>\n",
       "      <td>Bangalore/Bengaluru,Karnataka</td>\n",
       "      <td>520</td>\n",
       "      <td>bengaluru</td>\n",
       "      <td>44</td>\n",
       "      <td>254</td>\n",
       "      <td>IT Services &amp; Consulting</td>\n",
       "    </tr>\n",
       "  </tbody>\n",
       "</table>\n",
       "</div>"
      ],
      "text/plain": [
       "   Unnamed: 0  TotalEmployees  TotalEmployeesIndia  Rating     UrlName  \\\n",
       "0           0        100001.0             100001.0       4         tcs   \n",
       "1           1        100001.0             100001.0       4   accenture   \n",
       "2           2        100001.0             100001.0       4   cognizant   \n",
       "3           3        100001.0             100001.0       4  icici-bank   \n",
       "4           4        100001.0             100001.0       4       wipro   \n",
       "\n",
       "  CompanyType                       Name  CompanyReviewsLive  CompanySalaries  \\\n",
       "0      Public  Tata Consultancy Services               41589           394003   \n",
       "1      Public                  Accenture               27770           268685   \n",
       "2     Private                  Cognizant               25176           272214   \n",
       "3      Public                 ICICI Bank               32063           100049   \n",
       "4      Public                      Wipro               23674           200635   \n",
       "\n",
       "   InterviewExperiencesLive  Age   ShortName                            Logo  \\\n",
       "0                      2783   54         TCS                             tcs   \n",
       "1                      2177   33   Accenture                       accenture   \n",
       "2                      1748   28   Cognizant  cognizant-technology-solutions   \n",
       "3                       940   28  ICICI Bank                      icici_bank   \n",
       "4                      1819   77       Wipro                           wipro   \n",
       "\n",
       "             HQCountry                    headquaters  CompanyJobsLive  \\\n",
       "0                India             Mumbai,Maharashtra               55   \n",
       "1              Ireland                  Dublin,Dublin             7294   \n",
       "2  United States (USA)             Teaneck,New Jersey              316   \n",
       "3                India             Mumbai,Maharashtra              150   \n",
       "4                India  Bangalore/Bengaluru,Karnataka              520   \n",
       "\n",
       "   HQUrlName  CompanyId  location_count  \\\n",
       "0     mumbai         42             240   \n",
       "1        NaN        273             132   \n",
       "2        NaN         43              88   \n",
       "3     mumbai        134             995   \n",
       "4  bengaluru         44             254   \n",
       "\n",
       "                              industry_string  \n",
       "0  BPO / Call Centre,IT Services & Consulting  \n",
       "1   IT Services & Consulting,Software Product  \n",
       "2                    IT Services & Consulting  \n",
       "3                  Financial Services,Banking  \n",
       "4                    IT Services & Consulting  "
      ]
     },
     "execution_count": 38,
     "metadata": {},
     "output_type": "execute_result"
    }
   ],
   "source": [
    "dataset = pd.read_csv(\"./clean-data.csv\")\n",
    "dataset.head()"
   ]
  },
  {
   "cell_type": "code",
   "execution_count": 39,
   "metadata": {},
   "outputs": [
    {
     "name": "stdout",
     "output_type": "stream",
     "text": [
      "Kích thước dataset :  (9988, 20)\n"
     ]
    }
   ],
   "source": [
    "print(\"Kích thước dataset : \", dataset.shape)"
   ]
  },
  {
   "cell_type": "markdown",
   "metadata": {},
   "source": [
    "## Xử lý dữ liệu trống"
   ]
  },
  {
   "cell_type": "code",
   "execution_count": 40,
   "metadata": {},
   "outputs": [],
   "source": [
    "# dataset.isnull().sum()"
   ]
  },
  {
   "cell_type": "code",
   "execution_count": 41,
   "metadata": {},
   "outputs": [],
   "source": [
    "# def missing_value(col):\n",
    "#     \"\"\"\n",
    "#     Xử lý ngoại lệ bằng phương pháp thay thế bằng Median\n",
    "#     \"\"\"\n",
    "#     median = dataset[col].median()\n",
    "#     dataset[col] = dataset[col].fillna(median)\n",
    "\n",
    "\n",
    "# missing_value(\"ph\")\n",
    "# missing_value(\"Sulfate\")\n",
    "# missing_value(\"Trihalomethanes\")\n",
    "\n",
    "# print(dataset.shape)\n",
    "# print(dataset.isna().sum())"
   ]
  },
  {
   "cell_type": "markdown",
   "metadata": {},
   "source": [
    "## Xử lý dữ liệu mất cân bằng"
   ]
  },
  {
   "cell_type": "code",
   "execution_count": 42,
   "metadata": {},
   "outputs": [
    {
     "data": {
      "text/plain": [
       "<AxesSubplot:ylabel='Rating'>"
      ]
     },
     "execution_count": 42,
     "metadata": {},
     "output_type": "execute_result"
    },
    {
     "data": {
      "image/png": "[encoded data removed]",
      "text/plain": [
       "<Figure size 576x576 with 1 Axes>"
      ]
     },
     "metadata": {},
     "output_type": "display_data"
    }
   ],
   "source": [
    "# plt.figure(figsize=(4, 4))\n",
    "# sns.countplot(data=dataset, x=\"Rating\")\n",
    "# plt.xlabel(\"Rating\")\n",
    "# plt.ylabel(\"Số lượng\")\n",
    "dataset[\"Rating\"].value_counts().plot.pie(figsize=(8, 8), shadow=True, autopct='%1.2f%%')"
   ]
  },
  {
   "cell_type": "markdown",
   "metadata": {},
   "source": [
    "Số mẫu nước uống được và không uống được có sự chênh lệch khá lớn, dẫn đến hiệu quả phân loại không được tốt"
   ]
  },
  {
   "cell_type": "code",
   "execution_count": 43,
   "metadata": {},
   "outputs": [
    {
     "name": "stdout",
     "output_type": "stream",
     "text": [
      "38 1266 8211 473\n",
      "1498 1498 5493 1498\n"
     ]
    },
    {
     "data": {
      "text/plain": [
       "Text(0, 0.5, 'Số lượng')"
      ]
     },
     "execution_count": 43,
     "metadata": {},
     "output_type": "execute_result"
    },
    {
     "data": {
      "image/png": "[encoded data removed]",
      "text/plain": [
       "<Figure size 288x288 with 1 Axes>"
      ]
     },
     "metadata": {},
     "output_type": "display_data"
    }
   ],
   "source": [
    "dataset_samples = len(dataset)\n",
    "\n",
    "rating_2 = dataset[dataset[\"Rating\"] == 2]\n",
    "rating_3 = dataset[dataset[\"Rating\"] == 3]\n",
    "rating_4 = dataset[dataset[\"Rating\"] == 4]\n",
    "rating_5 = dataset[dataset[\"Rating\"] == 5]\n",
    "print(len(rating_2), len(rating_3), len(rating_4), len(rating_5))\n",
    "\n",
    "rating_2 = resample(rating_2, replace=True, n_samples=int(0.15*dataset_samples))\n",
    "rating_3 = resample(rating_3, replace=True, n_samples=int(0.15*dataset_samples))\n",
    "rating_4 = resample(rating_4, replace=True, n_samples=int(0.55*dataset_samples))\n",
    "rating_5 = resample(rating_5, replace=True, n_samples=int(0.15*dataset_samples))\n",
    "print(len(rating_2), len(rating_3), len(rating_4), len(rating_5))\n",
    "\n",
    "dataset = pd.concat([rating_2, rating_3, rating_4, rating_5])\n",
    "# Xáo trộn ngẫu nhiên lại dataset\n",
    "dataset = shuffle(dataset)\n",
    "\n",
    "plt.figure(figsize=(4, 4))\n",
    "sns.countplot(data=dataset, x=\"Rating\")\n",
    "plt.xlabel(\"Rating\")\n",
    "plt.ylabel(\"Số lượng\")"
   ]
  },
  {
   "cell_type": "markdown",
   "metadata": {},
   "source": [
    "## Tương quan giữa các biến"
   ]
  },
  {
   "cell_type": "code",
   "execution_count": 19,
   "metadata": {},
   "outputs": [],
   "source": [
    "# plt.figure(figsize=(8, 7))\n",
    "# plt.title(\"Bản đồ nhiệt tương quan giữa các biến\")\n",
    "# sns.heatmap(dataset.corr().round(2), data=dataset, annot=True, vmin=-1.0, vmax=1.0, center=0, cmap='RdBu_r')"
   ]
  },
  {
   "cell_type": "markdown",
   "metadata": {},
   "source": [
    "Các biến có độ tương quan thấp với Potability"
   ]
  },
  {
   "cell_type": "markdown",
   "metadata": {},
   "source": [
    "## Phân bố của các biến dữ liệu : "
   ]
  },
  {
   "cell_type": "code",
   "execution_count": 20,
   "metadata": {},
   "outputs": [],
   "source": [
    "# X_columns = list(dataset.columns)\n",
    "# X_columns.remove(\"Potability\")\n",
    "\n",
    "# plt.figure(figsize=(20, 11))\n",
    "# j = 0\n",
    "# k = 5\n",
    "# for i in range(len(X_columns)):\n",
    "#     if i == 5:\n",
    "#         j = 5\n",
    "#         k = 10\n",
    "#     X_i = dataset[X_columns[i]].dropna()\n",
    "#     plt.subplot(4, 5, i+j+1)\n",
    "#     sns.boxplot(data=dataset, x=X_columns[i])\n",
    "#     plt.subplot(4, 5, i+k+1)\n",
    "#     sns.histplot(data=dataset[[X_columns[i]]])\n",
    "#     plt.ylabel(\"Số lượng\")"
   ]
  },
  {
   "cell_type": "markdown",
   "metadata": {},
   "source": [
    "Ta thấy hầu hết cột dữ liệu đều có dạng phân bố chuẩn, chỉ có Solids là có phân bố hơi lệch trái một chút so với phân bố chuẩn"
   ]
  },
  {
   "cell_type": "markdown",
   "metadata": {},
   "source": [
    "## Chia dữ liệu Train / Test"
   ]
  },
  {
   "cell_type": "markdown",
   "metadata": {},
   "source": [
    "Chia theo tỉ lệ 20/80, stratify theo Potability để tỉ lệ nước uống được/không uống được bằng nhau ở 2 tập train và test"
   ]
  },
  {
   "cell_type": "code",
   "execution_count": 44,
   "metadata": {},
   "outputs": [
    {
     "data": {
      "text/plain": [
       "((7989, 8), (1998, 8))"
      ]
     },
     "execution_count": 44,
     "metadata": {},
     "output_type": "execute_result"
    }
   ],
   "source": [
    "X_columns = [\"TotalEmployees\", \"TotalEmployeesIndia\", \"CompanyReviewsLive\", \"CompanySalaries\", \n",
    "            \"InterviewExperiencesLive\", \"Age\", \"CompanyJobsLive\", \"location_count\"]\n",
    "Y_columns = \"Rating\"\n",
    "\n",
    "X_train, X_test, Y_train, Y_test = train_test_split(dataset[X_columns].fillna(0),\n",
    "                                                    dataset[Y_columns],\n",
    "                                                    test_size=0.2, \n",
    "                                                    stratify=dataset[Y_columns],\n",
    "                                                    random_state=42)\n",
    "\n",
    "X_train.shape, X_test.shape"
   ]
  },
  {
   "cell_type": "markdown",
   "metadata": {},
   "source": [
    "Tỉ lệ nước uống được/không uống được ở 2 tập train và test"
   ]
  },
  {
   "cell_type": "code",
   "execution_count": 45,
   "metadata": {},
   "outputs": [
    {
     "data": {
      "text/plain": [
       "<AxesSubplot:ylabel='Rating'>"
      ]
     },
     "execution_count": 45,
     "metadata": {},
     "output_type": "execute_result"
    },
    {
     "data": {
      "image/png": "[encoded data removed]",
      "text/plain": [
       "<Figure size 576x576 with 2 Axes>"
      ]
     },
     "metadata": {},
     "output_type": "display_data"
    }
   ],
   "source": [
    "plt.subplot(1, 2, 1)\n",
    "Y_train.value_counts().plot.pie(figsize=(8, 8), shadow=True, autopct='%1.2f%%')\n",
    "\n",
    "plt.subplot(1, 2, 2)\n",
    "Y_test.value_counts().plot.pie(figsize=(8, 8), shadow=True, autopct='%1.2f%%')"
   ]
  },
  {
   "cell_type": "markdown",
   "metadata": {},
   "source": [
    "## Xử lý Outlier cho tập Train, tập Test giữ nguyên Outlier : "
   ]
  },
  {
   "cell_type": "markdown",
   "metadata": {},
   "source": [
    "- Xử lý ngoại lệ bằng cách thay các giá trị lớn hơn biên trên thành biên trên và các giá trị nhỏ hơn bên dưới thành biên dưới\n",
    "- Các đặc trưng có dạng phân bố chuẩn nên biên dưới/biên trên là mean - 3 * std và mean + 3 * std"
   ]
  },
  {
   "cell_type": "code",
   "execution_count": 12,
   "metadata": {},
   "outputs": [],
   "source": [
    "# def Remove_Outlier(dataset):\n",
    "#     data = dataset.copy()\n",
    "#     for col in data.columns:\n",
    "#         lower_boundary = round(data[col].mean() - 3* data[col].std())\n",
    "#         upper_boundary = round(data[col].mean() + 3 * data[col].std())\n",
    "#         data.loc[data[col] <= lower_boundary, col] = lower_boundary\n",
    "#         data.loc[data[col] >= upper_boundary, col] = upper_boundary\n",
    "#     return data"
   ]
  },
  {
   "cell_type": "code",
   "execution_count": 13,
   "metadata": {},
   "outputs": [
    {
     "data": {
      "text/plain": [
       "(2876, 9)"
      ]
     },
     "execution_count": 13,
     "metadata": {},
     "output_type": "execute_result"
    }
   ],
   "source": [
    "# # Tập X_train gốc có xử lý ngoại lệ\n",
    "# X_train_outlier = Remove_Outlier(X_train)\n",
    "# X_train_outlier.shape"
   ]
  },
  {
   "cell_type": "markdown",
   "metadata": {},
   "source": [
    "## Chuẩn hóa Z-score"
   ]
  },
  {
   "cell_type": "markdown",
   "metadata": {},
   "source": [
    "Áp dụng chuẩn hóa bằng cách fit cho tập Train và dùng bộ tham số đó để transform cho cả tập Train và Test "
   ]
  },
  {
   "cell_type": "code",
   "execution_count": 46,
   "metadata": {},
   "outputs": [],
   "source": [
    "X_test_outlier = X_test.copy()\n",
    "\n",
    "# Chuẩn hóa tập Train gốc\n",
    "scaler = StandardScaler()\n",
    "scaler.fit(X_train)\n",
    "X_train = pd.DataFrame(scaler.transform(X_train), columns=X_train.columns)\n",
    "# Sử dụng lại chính scaler của tập Train để chuẩn hóa cho tập Test\n",
    "X_test = pd.DataFrame(scaler.transform(X_test), columns=X_test.columns)\n",
    "\n",
    "# Chuẩn hóa tập Train gốc có xử lý ngoại lệ\n",
    "# scaler = StandardScaler()\n",
    "# scaler.fit(X_train_outlier)\n",
    "# X_train_outlier = pd.DataFrame(scaler.transform(X_train_outlier), columns=X_train_outlier.columns)\n",
    "# X_test_outlier = pd.DataFrame(scaler.transform(X_test_outlier), columns=X_test_outlier.columns)"
   ]
  },
  {
   "cell_type": "markdown",
   "metadata": {},
   "source": [
    "## Hyperparameter Tuning"
   ]
  },
  {
   "cell_type": "markdown",
   "metadata": {},
   "source": [
    "Hàm format độ chính xác về %"
   ]
  },
  {
   "cell_type": "code",
   "execution_count": 47,
   "metadata": {},
   "outputs": [],
   "source": [
    "def acc(accuracy):\n",
    "    return f\"{round(accuracy*100, 2)} (%)\""
   ]
  },
  {
   "cell_type": "markdown",
   "metadata": {},
   "source": [
    "Tìm kiếm các siêu tham số tốt nhất cho mô hình bằng tập Train, đồng thời đánh giá độ chính xác thu được khi áp dụng cho tập Test"
   ]
  },
  {
   "cell_type": "code",
   "execution_count": 49,
   "metadata": {},
   "outputs": [
    {
     "name": "stdout",
     "output_type": "stream",
     "text": [
      ">> X_train gốc : \n",
      "Best : 91.03 (%) using {'min_samples_leaf': 1, 'n_estimators': 300}\n",
      "Test set : 93.34 (%)\n"
     ]
    }
   ],
   "source": [
    "def hyperparameter_tuning_rfc(XTrain, YTrain, XTest, YTest):\n",
    "    random_forest = RandomForestClassifier(random_state=42)\n",
    "    params = {\n",
    "        \"n_estimators\": [100, 200, 300, 400], \n",
    "        \"min_samples_leaf\": [1, 2, 10]\n",
    "    }\n",
    "    search = GridSearchCV(estimator=random_forest, param_grid=params, cv=5, n_jobs=-1)\n",
    "    search.fit(XTrain, YTrain)\n",
    "    # Kết quả Tuning tốt nhất\n",
    "    print(f\"Best : {acc(search.best_score_)} using {search.best_params_}\")\n",
    "    print(f\"Test set : {acc(search.score(XTest, YTest))}\")\n",
    "    return search.best_params_\n",
    "\n",
    "\n",
    "print(\">> X_train gốc : \")\n",
    "best_params_1 = hyperparameter_tuning_rfc(X_train, Y_train, X_test, Y_test)\n",
    "# print(\">> X_train gốc có xử lý ngoại lệ : \")\n",
    "# best_params_2 = hyperparameter_tuning_rfc(X_train_outlier, Y_train, X_test_outlier, Y_test)"
   ]
  },
  {
   "cell_type": "markdown",
   "metadata": {},
   "source": [
    "## Huấn luyện lại Model trên toàn bộ dữ liệu ở 4 trường hợp"
   ]
  },
  {
   "cell_type": "code",
   "execution_count": null,
   "metadata": {},
   "outputs": [],
   "source": [
    "# def cross_val_model(X, Y, best_params):\n",
    "#     model = RandomForestClassifier(\n",
    "#         n_estimators=best_params[\"n_estimators\"],\n",
    "#         min_samples_leaf=best_params[\"min_samples_leaf\"],\n",
    "#         random_state=42)\n",
    "#     scores = cross_val_score(model, X, Y, cv=5)\n",
    "#     print(acc(np.mean(scores)))\n",
    "\n",
    "\n",
    "# print(\">> X_train gốc : \")\n",
    "# cross_val_model(pd.concat([X_train, X_test]), pd.concat([Y_train, Y_test]), best_params_1)\n",
    "# print(\">> X_train gốc có xử lý ngoại lệ : \")\n",
    "# cross_val_model(pd.concat([X_train_outlier, X_test_outlier]), pd.concat([Y_train, Y_test]), best_params_2)"
   ]
  },
  {
   "cell_type": "markdown",
   "metadata": {},
   "source": [
    "# SVM"
   ]
  },
  {
   "cell_type": "code",
   "execution_count": 48,
   "metadata": {},
   "outputs": [
    {
     "name": "stdout",
     "output_type": "stream",
     "text": [
      ">> X_train gốc : \n",
      "Best : 59.86 (%) using {'C': 10, 'gamma': 'scale', 'kernel': 'rbf'}\n",
      "Test set : 61.91 (%)\n"
     ]
    }
   ],
   "source": [
    "def hyperparameter_tuning_svm(XTrain, YTrain, XTest, YTest):\n",
    "    svm_model = SVC()\n",
    "    params = {\n",
    "        'C': [0.1,1,10],\n",
    "        'gamma': ['scale','auto'],\n",
    "        'kernel': ['rbf','linear']\n",
    "    }\n",
    "    search = GridSearchCV(estimator=svm_model, param_grid=params, cv=5, n_jobs=-1)\n",
    "    search.fit(XTrain, YTrain)\n",
    "    # Kết quả Tuning tốt nhất\n",
    "    print(f\"Best : {acc(search.best_score_)} using {search.best_params_}\")\n",
    "    print(f\"Test set : {acc(search.score(XTest, YTest))}\")\n",
    "    return search.best_params_\n",
    "\n",
    "\n",
    "print(\">> X_train gốc : \")\n",
    "best_params_1 = hyperparameter_tuning_svm(X_train, Y_train, X_test, Y_test)\n",
    "# print(\">> X_train gốc có xử lý ngoại lệ : \")\n",
    "# best_params_2 = hyperparameter_tuning_svm(X_train_outlier, Y_train, X_test_outlier, Y_test)\n"
   ]
  }
 ],
 "metadata": {
  "interpreter": {
   "hash": "aee8b7b246df8f9039afb4144a1f6fd8d2ca17a180786b69acc140d282b71a49"
  },
  "kernelspec": {
   "display_name": "Python 3.9.7 64-bit",
   "language": "python",
   "name": "python3"
  },
  "language_info": {
   "codemirror_mode": {
    "name": "ipython",
    "version": 3
   },
   "file_extension": ".py",
   "mimetype": "text/x-python",
   "name": "python",
   "nbconvert_exporter": "python",
   "pygments_lexer": "ipython3",
   "version": "3.9.7"
  },
  "orig_nbformat": 4
 },
 "nbformat": 4,
 "nbformat_minor": 2
}
