{
 "cells": [
  {
   "cell_type": "code",
   "execution_count": 92,
   "metadata": {},
   "outputs": [],
   "source": [
    "import pandas as pd\n",
    "import numpy as np\n",
    "import matplotlib.pyplot as plt\n",
    "import seaborn as sns\n",
    "%matplotlib inline\n",
    "import warnings\n",
    "from sklearn.linear_model import LogisticRegression\n",
    "from sklearn.model_selection import train_test_split\n",
    "from sklearn.model_selection import cross_val_score\n",
    "from sklearn.metrics import accuracy_score\n",
    "warnings.filterwarnings('ignore')"
   ]
  },
  {
   "cell_type": "markdown",
   "metadata": {},
   "source": [
    "Import Data"
   ]
  },
  {
   "cell_type": "code",
   "execution_count": 93,
   "metadata": {},
   "outputs": [],
   "source": [
    "# convert json to csv file\n",
    "# df = pd.read_json('./db.json')\n",
    "# df.to_csv('./db.csv', index=False)\n",
    "\n",
    "df = pd.read_csv('./db.csv')\n"
   ]
  },
  {
   "cell_type": "code",
   "execution_count": 94,
   "metadata": {},
   "outputs": [
    {
     "data": {
      "text/html": [
       "<div>\n",
       "<style scoped>\n",
       "    .dataframe tbody tr th:only-of-type {\n",
       "        vertical-align: middle;\n",
       "    }\n",
       "\n",
       "    .dataframe tbody tr th {\n",
       "        vertical-align: top;\n",
       "    }\n",
       "\n",
       "    .dataframe thead th {\n",
       "        text-align: right;\n",
       "    }\n",
       "</style>\n",
       "<table border=\"1\" class=\"dataframe\">\n",
       "  <thead>\n",
       "    <tr style=\"text-align: right;\">\n",
       "      <th></th>\n",
       "      <th>TotalEmployees</th>\n",
       "      <th>TotalEmployeesIndia</th>\n",
       "      <th>Rating</th>\n",
       "      <th>UrlName</th>\n",
       "      <th>CompanyType</th>\n",
       "      <th>Name</th>\n",
       "      <th>CompanyReviewsLive</th>\n",
       "      <th>CompanySalaries</th>\n",
       "      <th>InterviewExperiencesLive</th>\n",
       "      <th>Age</th>\n",
       "      <th>ShortName</th>\n",
       "      <th>Logo</th>\n",
       "      <th>HQCountry</th>\n",
       "      <th>headquaters</th>\n",
       "      <th>CompanyJobsLive</th>\n",
       "      <th>HQUrlName</th>\n",
       "      <th>CompanyId</th>\n",
       "      <th>location_count</th>\n",
       "      <th>industry_string</th>\n",
       "      <th>Subscribed</th>\n",
       "    </tr>\n",
       "  </thead>\n",
       "  <tbody>\n",
       "    <tr>\n",
       "      <th>0</th>\n",
       "      <td>100001+</td>\n",
       "      <td>100001+</td>\n",
       "      <td>3.92</td>\n",
       "      <td>tcs</td>\n",
       "      <td>Public</td>\n",
       "      <td>Tata Consultancy Services</td>\n",
       "      <td>41589</td>\n",
       "      <td>394003</td>\n",
       "      <td>2783</td>\n",
       "      <td>54</td>\n",
       "      <td>TCS</td>\n",
       "      <td>tcs</td>\n",
       "      <td>India</td>\n",
       "      <td>Mumbai,Maharashtra</td>\n",
       "      <td>55</td>\n",
       "      <td>mumbai</td>\n",
       "      <td>42</td>\n",
       "      <td>240</td>\n",
       "      <td>BPO / Call Centre,IT Services &amp; Consulting</td>\n",
       "      <td>0</td>\n",
       "    </tr>\n",
       "    <tr>\n",
       "      <th>1</th>\n",
       "      <td>100001+</td>\n",
       "      <td>100001+</td>\n",
       "      <td>4.14</td>\n",
       "      <td>accenture</td>\n",
       "      <td>Public</td>\n",
       "      <td>Accenture</td>\n",
       "      <td>27770</td>\n",
       "      <td>268685</td>\n",
       "      <td>2177</td>\n",
       "      <td>33</td>\n",
       "      <td>Accenture</td>\n",
       "      <td>accenture</td>\n",
       "      <td>Ireland</td>\n",
       "      <td>Dublin,Dublin</td>\n",
       "      <td>7294</td>\n",
       "      <td>NaN</td>\n",
       "      <td>273</td>\n",
       "      <td>132</td>\n",
       "      <td>IT Services &amp; Consulting,Software Product</td>\n",
       "      <td>0</td>\n",
       "    </tr>\n",
       "    <tr>\n",
       "      <th>2</th>\n",
       "      <td>100001+</td>\n",
       "      <td>100001+</td>\n",
       "      <td>3.94</td>\n",
       "      <td>cognizant</td>\n",
       "      <td>Private</td>\n",
       "      <td>Cognizant</td>\n",
       "      <td>25176</td>\n",
       "      <td>272214</td>\n",
       "      <td>1748</td>\n",
       "      <td>28</td>\n",
       "      <td>Cognizant</td>\n",
       "      <td>cognizant-technology-solutions</td>\n",
       "      <td>United States (USA)</td>\n",
       "      <td>Teaneck,New Jersey</td>\n",
       "      <td>316</td>\n",
       "      <td>NaN</td>\n",
       "      <td>43</td>\n",
       "      <td>88</td>\n",
       "      <td>IT Services &amp; Consulting</td>\n",
       "      <td>0</td>\n",
       "    </tr>\n",
       "    <tr>\n",
       "      <th>3</th>\n",
       "      <td>50001-100000</td>\n",
       "      <td>50001-100000</td>\n",
       "      <td>4.02</td>\n",
       "      <td>icici-bank</td>\n",
       "      <td>Public</td>\n",
       "      <td>ICICI Bank</td>\n",
       "      <td>32063</td>\n",
       "      <td>100049</td>\n",
       "      <td>940</td>\n",
       "      <td>28</td>\n",
       "      <td>ICICI Bank</td>\n",
       "      <td>icici_bank</td>\n",
       "      <td>India</td>\n",
       "      <td>Mumbai,Maharashtra</td>\n",
       "      <td>150</td>\n",
       "      <td>mumbai</td>\n",
       "      <td>134</td>\n",
       "      <td>995</td>\n",
       "      <td>Financial Services,Banking</td>\n",
       "      <td>0</td>\n",
       "    </tr>\n",
       "    <tr>\n",
       "      <th>4</th>\n",
       "      <td>100001+</td>\n",
       "      <td>100001+</td>\n",
       "      <td>3.93</td>\n",
       "      <td>wipro</td>\n",
       "      <td>Public</td>\n",
       "      <td>Wipro</td>\n",
       "      <td>23674</td>\n",
       "      <td>200635</td>\n",
       "      <td>1819</td>\n",
       "      <td>77</td>\n",
       "      <td>Wipro</td>\n",
       "      <td>wipro</td>\n",
       "      <td>India</td>\n",
       "      <td>Bangalore/Bengaluru,Karnataka</td>\n",
       "      <td>520</td>\n",
       "      <td>bengaluru</td>\n",
       "      <td>44</td>\n",
       "      <td>254</td>\n",
       "      <td>IT Services &amp; Consulting</td>\n",
       "      <td>0</td>\n",
       "    </tr>\n",
       "  </tbody>\n",
       "</table>\n",
       "</div>"
      ],
      "text/plain": [
       "  TotalEmployees TotalEmployeesIndia  Rating     UrlName CompanyType  \\\n",
       "0        100001+             100001+    3.92         tcs      Public   \n",
       "1        100001+             100001+    4.14   accenture      Public   \n",
       "2        100001+             100001+    3.94   cognizant     Private   \n",
       "3   50001-100000        50001-100000    4.02  icici-bank      Public   \n",
       "4        100001+             100001+    3.93       wipro      Public   \n",
       "\n",
       "                        Name  CompanyReviewsLive  CompanySalaries  \\\n",
       "0  Tata Consultancy Services               41589           394003   \n",
       "1                  Accenture               27770           268685   \n",
       "2                  Cognizant               25176           272214   \n",
       "3                 ICICI Bank               32063           100049   \n",
       "4                      Wipro               23674           200635   \n",
       "\n",
       "   InterviewExperiencesLive  Age   ShortName                            Logo  \\\n",
       "0                      2783   54         TCS                             tcs   \n",
       "1                      2177   33   Accenture                       accenture   \n",
       "2                      1748   28   Cognizant  cognizant-technology-solutions   \n",
       "3                       940   28  ICICI Bank                      icici_bank   \n",
       "4                      1819   77       Wipro                           wipro   \n",
       "\n",
       "             HQCountry                    headquaters  CompanyJobsLive  \\\n",
       "0                India             Mumbai,Maharashtra               55   \n",
       "1              Ireland                  Dublin,Dublin             7294   \n",
       "2  United States (USA)             Teaneck,New Jersey              316   \n",
       "3                India             Mumbai,Maharashtra              150   \n",
       "4                India  Bangalore/Bengaluru,Karnataka              520   \n",
       "\n",
       "   HQUrlName  CompanyId  location_count  \\\n",
       "0     mumbai         42             240   \n",
       "1        NaN        273             132   \n",
       "2        NaN         43              88   \n",
       "3     mumbai        134             995   \n",
       "4  bengaluru         44             254   \n",
       "\n",
       "                              industry_string  Subscribed  \n",
       "0  BPO / Call Centre,IT Services & Consulting           0  \n",
       "1   IT Services & Consulting,Software Product           0  \n",
       "2                    IT Services & Consulting           0  \n",
       "3                  Financial Services,Banking           0  \n",
       "4                    IT Services & Consulting           0  "
      ]
     },
     "execution_count": 94,
     "metadata": {},
     "output_type": "execute_result"
    }
   ],
   "source": [
    "df.head(5)"
   ]
  },
  {
   "cell_type": "code",
   "execution_count": 95,
   "metadata": {},
   "outputs": [
    {
     "data": {
      "text/plain": [
       "TotalEmployees               830\n",
       "TotalEmployeesIndia         1624\n",
       "Rating                         0\n",
       "UrlName                        0\n",
       "CompanyType                 1565\n",
       "Name                           0\n",
       "CompanyReviewsLive             0\n",
       "CompanySalaries                0\n",
       "InterviewExperiencesLive       0\n",
       "Age                            0\n",
       "ShortName                      0\n",
       "Logo                         349\n",
       "HQCountry                    363\n",
       "headquaters                  315\n",
       "CompanyJobsLive                0\n",
       "HQUrlName                   3738\n",
       "CompanyId                      0\n",
       "location_count                 0\n",
       "industry_string              118\n",
       "Subscribed                     0\n",
       "dtype: int64"
      ]
     },
     "execution_count": 95,
     "metadata": {},
     "output_type": "execute_result"
    }
   ],
   "source": [
    "# show number of null value in each column\n",
    "df.isnull().sum()"
   ]
  },
  {
   "cell_type": "markdown",
   "metadata": {},
   "source": [
    "## Kiểm tra dữ liệu trống ở các cột"
   ]
  },
  {
   "cell_type": "code",
   "execution_count": 96,
   "metadata": {},
   "outputs": [
    {
     "data": {
      "text/plain": [
       "TotalEmployees               8.309972\n",
       "TotalEmployeesIndia         16.259511\n",
       "Rating                       0.000000\n",
       "UrlName                      0.000000\n",
       "CompanyType                 15.668803\n",
       "Name                         0.000000\n",
       "CompanyReviewsLive           0.000000\n",
       "CompanySalaries              0.000000\n",
       "InterviewExperiencesLive     0.000000\n",
       "Age                          0.000000\n",
       "ShortName                    0.000000\n",
       "Logo                         3.494193\n",
       "HQCountry                    3.634361\n",
       "headquaters                  3.153785\n",
       "CompanyJobsLive              0.000000\n",
       "HQUrlName                   37.424910\n",
       "CompanyId                    0.000000\n",
       "location_count               0.000000\n",
       "industry_string              1.181418\n",
       "Subscribed                   0.000000\n",
       "dtype: float64"
      ]
     },
     "execution_count": 96,
     "metadata": {},
     "output_type": "execute_result"
    }
   ],
   "source": [
    "df.apply(lambda x :(x.isnull().mean())*100)"
   ]
  },
  {
   "cell_type": "markdown",
   "metadata": {},
   "source": [
    "## Preprocessing\n",
    "### Làm tròn rating"
   ]
  },
  {
   "cell_type": "code",
   "execution_count": 97,
   "metadata": {},
   "outputs": [
    {
     "data": {
      "text/plain": [
       "Text(0, 0.5, 'Number of company')"
      ]
     },
     "execution_count": 97,
     "metadata": {},
     "output_type": "execute_result"
    },
    {
     "data": {
      "image/png": "[encoded data removed]",
      "text/plain": [
       "<Figure size 432x288 with 1 Axes>"
      ]
     },
     "metadata": {
      "needs_background": "light"
     },
     "output_type": "display_data"
    }
   ],
   "source": [
    "# round rating to nearest integer\n",
    "df['Rating'] = df['Rating'].round()\n",
    "\n",
    "df.Rating.value_counts().plot(kind='bar')\n",
    "plt.xlabel('Rating')\n",
    "plt.ylabel('Number of company')"
   ]
  },
  {
   "cell_type": "code",
   "execution_count": 98,
   "metadata": {},
   "outputs": [
    {
     "data": {
      "text/plain": [
       "array([100001, 75000.0, 30000.0, 7500.0, 3000.0, nan, '39576', 750.0,\n",
       "       350.0, 125.0, 30.0, 10000, 5.0, '94072'], dtype=object)"
      ]
     },
     "execution_count": 98,
     "metadata": {},
     "output_type": "execute_result"
    }
   ],
   "source": [
    "df.TotalEmployees = df.TotalEmployees.replace({'100001+': 100001, '10000+': 10000})\n",
    "\n",
    "df.TotalEmployees = df.TotalEmployees.replace({\n",
    "    '50001-100000': np.floor((50001 + 100000) / 2),\n",
    "    '10001-50000': np.floor((10001 + 50000) / 2),\n",
    "    '5001-10000': np.floor((5001 + 10000) / 2),\n",
    "    '1001-5000': np.floor((1001 + 5000) / 2),\n",
    "    '501-1000': np.floor((501 + 1000) / 2),\n",
    "    '201-500': np.floor((201 + 500) / 2),\n",
    "    '51-200': np.floor((51 + 200) / 2),\n",
    "    '11-50': np.floor((11 + 50) / 2),\n",
    "    '1-10': np.floor((1 + 10) / 2),\n",
    "    })\n",
    "\n",
    "df.TotalEmployees.unique()\n",
    "\n",
    " \n",
    "\n"
   ]
  },
  {
   "cell_type": "markdown",
   "metadata": {},
   "source": [
    "## Drop redundant columns"
   ]
  },
  {
   "cell_type": "code",
   "execution_count": 99,
   "metadata": {},
   "outputs": [],
   "source": [
    "# drop redundant columns\n",
    "df = df.drop(['UrlName', 'ShortName', 'Logo', 'HQUrlName', 'Subscribed'], axis=1)"
   ]
  }
 ],
 "metadata": {
  "interpreter": {
   "hash": "916dbcbb3f70747c44a77c7bcd40155683ae19c65e1c03b4aa3499c5328201f1"
  },
  "kernelspec": {
   "display_name": "Python 3.8.10 64-bit",
   "language": "python",
   "name": "python3"
  },
  "language_info": {
   "codemirror_mode": {
    "name": "ipython",
    "version": 3
   },
   "file_extension": ".py",
   "mimetype": "text/x-python",
   "name": "python",
   "nbconvert_exporter": "python",
   "pygments_lexer": "ipython3",
   "version": "3.8.10"
  }
 },
 "nbformat": 4,
 "nbformat_minor": 4
}
