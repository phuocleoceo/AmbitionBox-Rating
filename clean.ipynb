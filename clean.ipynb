{
 "cells": [
  {
   "cell_type": "markdown",
   "metadata": {},
   "source": [
    "# Clean Data"
   ]
  },
  {
   "cell_type": "markdown",
   "metadata": {},
   "source": [
    "Thêm thư viện"
   ]
  },
  {
   "cell_type": "code",
   "execution_count": 86,
   "metadata": {},
   "outputs": [],
   "source": [
    "import warnings\n",
    "import pandas as pd\n",
    "import numpy as np\n",
    "warnings.simplefilter(action='ignore')\n"
   ]
  },
  {
   "cell_type": "markdown",
   "metadata": {},
   "source": [
    "Đọc dữ liệu đầu vào và đổi tên cột"
   ]
  },
  {
   "cell_type": "code",
   "execution_count": 87,
   "metadata": {},
   "outputs": [
    {
     "data": {
      "text/html": [
       "<div>\n",
       "<style scoped>\n",
       "    .dataframe tbody tr th:only-of-type {\n",
       "        vertical-align: middle;\n",
       "    }\n",
       "\n",
       "    .dataframe tbody tr th {\n",
       "        vertical-align: top;\n",
       "    }\n",
       "\n",
       "    .dataframe thead th {\n",
       "        text-align: right;\n",
       "    }\n",
       "</style>\n",
       "<table border=\"1\" class=\"dataframe\">\n",
       "  <thead>\n",
       "    <tr style=\"text-align: right;\">\n",
       "      <th></th>\n",
       "      <th>Unnamed: 0</th>\n",
       "      <th>TotalEmployees</th>\n",
       "      <th>TotalEmployeesIndia</th>\n",
       "      <th>Rating</th>\n",
       "      <th>UrlName</th>\n",
       "      <th>CompanyType</th>\n",
       "      <th>Name</th>\n",
       "      <th>CompanyReviewsLive</th>\n",
       "      <th>CompanySalaries</th>\n",
       "      <th>InterviewExperiencesLive</th>\n",
       "      <th>...</th>\n",
       "      <th>ShortName</th>\n",
       "      <th>Logo</th>\n",
       "      <th>HQCountry</th>\n",
       "      <th>Headquarters</th>\n",
       "      <th>CompanyJobsLive</th>\n",
       "      <th>HQUrlName</th>\n",
       "      <th>CompanyId</th>\n",
       "      <th>LocationCount</th>\n",
       "      <th>Industry</th>\n",
       "      <th>Subscribed</th>\n",
       "    </tr>\n",
       "  </thead>\n",
       "  <tbody>\n",
       "    <tr>\n",
       "      <th>0</th>\n",
       "      <td>0</td>\n",
       "      <td>100001+</td>\n",
       "      <td>100001+</td>\n",
       "      <td>3.92</td>\n",
       "      <td>tcs</td>\n",
       "      <td>Public</td>\n",
       "      <td>Tata Consultancy Services</td>\n",
       "      <td>41589</td>\n",
       "      <td>394003</td>\n",
       "      <td>2783</td>\n",
       "      <td>...</td>\n",
       "      <td>TCS</td>\n",
       "      <td>tcs</td>\n",
       "      <td>India</td>\n",
       "      <td>Mumbai,Maharashtra</td>\n",
       "      <td>55</td>\n",
       "      <td>mumbai</td>\n",
       "      <td>42</td>\n",
       "      <td>240</td>\n",
       "      <td>BPO / Call Centre,IT Services &amp; Consulting</td>\n",
       "      <td>0</td>\n",
       "    </tr>\n",
       "    <tr>\n",
       "      <th>1</th>\n",
       "      <td>1</td>\n",
       "      <td>100001+</td>\n",
       "      <td>100001+</td>\n",
       "      <td>4.14</td>\n",
       "      <td>accenture</td>\n",
       "      <td>Public</td>\n",
       "      <td>Accenture</td>\n",
       "      <td>27770</td>\n",
       "      <td>268685</td>\n",
       "      <td>2177</td>\n",
       "      <td>...</td>\n",
       "      <td>Accenture</td>\n",
       "      <td>accenture</td>\n",
       "      <td>Ireland</td>\n",
       "      <td>Dublin,Dublin</td>\n",
       "      <td>7294</td>\n",
       "      <td>NaN</td>\n",
       "      <td>273</td>\n",
       "      <td>132</td>\n",
       "      <td>IT Services &amp; Consulting,Software Product</td>\n",
       "      <td>0</td>\n",
       "    </tr>\n",
       "    <tr>\n",
       "      <th>2</th>\n",
       "      <td>2</td>\n",
       "      <td>100001+</td>\n",
       "      <td>100001+</td>\n",
       "      <td>3.94</td>\n",
       "      <td>cognizant</td>\n",
       "      <td>Private</td>\n",
       "      <td>Cognizant</td>\n",
       "      <td>25176</td>\n",
       "      <td>272214</td>\n",
       "      <td>1748</td>\n",
       "      <td>...</td>\n",
       "      <td>Cognizant</td>\n",
       "      <td>cognizant-technology-solutions</td>\n",
       "      <td>United States (USA)</td>\n",
       "      <td>Teaneck,New Jersey</td>\n",
       "      <td>316</td>\n",
       "      <td>NaN</td>\n",
       "      <td>43</td>\n",
       "      <td>88</td>\n",
       "      <td>IT Services &amp; Consulting</td>\n",
       "      <td>0</td>\n",
       "    </tr>\n",
       "    <tr>\n",
       "      <th>3</th>\n",
       "      <td>3</td>\n",
       "      <td>50001-100000</td>\n",
       "      <td>50001-100000</td>\n",
       "      <td>4.02</td>\n",
       "      <td>icici-bank</td>\n",
       "      <td>Public</td>\n",
       "      <td>ICICI Bank</td>\n",
       "      <td>32063</td>\n",
       "      <td>100049</td>\n",
       "      <td>940</td>\n",
       "      <td>...</td>\n",
       "      <td>ICICI Bank</td>\n",
       "      <td>icici_bank</td>\n",
       "      <td>India</td>\n",
       "      <td>Mumbai,Maharashtra</td>\n",
       "      <td>150</td>\n",
       "      <td>mumbai</td>\n",
       "      <td>134</td>\n",
       "      <td>995</td>\n",
       "      <td>Financial Services,Banking</td>\n",
       "      <td>0</td>\n",
       "    </tr>\n",
       "    <tr>\n",
       "      <th>4</th>\n",
       "      <td>4</td>\n",
       "      <td>100001+</td>\n",
       "      <td>100001+</td>\n",
       "      <td>3.93</td>\n",
       "      <td>wipro</td>\n",
       "      <td>Public</td>\n",
       "      <td>Wipro</td>\n",
       "      <td>23674</td>\n",
       "      <td>200635</td>\n",
       "      <td>1819</td>\n",
       "      <td>...</td>\n",
       "      <td>Wipro</td>\n",
       "      <td>wipro</td>\n",
       "      <td>India</td>\n",
       "      <td>Bangalore/Bengaluru,Karnataka</td>\n",
       "      <td>520</td>\n",
       "      <td>bengaluru</td>\n",
       "      <td>44</td>\n",
       "      <td>254</td>\n",
       "      <td>IT Services &amp; Consulting</td>\n",
       "      <td>0</td>\n",
       "    </tr>\n",
       "  </tbody>\n",
       "</table>\n",
       "<p>5 rows × 21 columns</p>\n",
       "</div>"
      ],
      "text/plain": [
       "   Unnamed: 0 TotalEmployees TotalEmployeesIndia  Rating     UrlName  \\\n",
       "0           0        100001+             100001+    3.92         tcs   \n",
       "1           1        100001+             100001+    4.14   accenture   \n",
       "2           2        100001+             100001+    3.94   cognizant   \n",
       "3           3   50001-100000        50001-100000    4.02  icici-bank   \n",
       "4           4        100001+             100001+    3.93       wipro   \n",
       "\n",
       "  CompanyType                       Name  CompanyReviewsLive  CompanySalaries  \\\n",
       "0      Public  Tata Consultancy Services               41589           394003   \n",
       "1      Public                  Accenture               27770           268685   \n",
       "2     Private                  Cognizant               25176           272214   \n",
       "3      Public                 ICICI Bank               32063           100049   \n",
       "4      Public                      Wipro               23674           200635   \n",
       "\n",
       "   InterviewExperiencesLive  ...   ShortName                            Logo  \\\n",
       "0                      2783  ...         TCS                             tcs   \n",
       "1                      2177  ...   Accenture                       accenture   \n",
       "2                      1748  ...   Cognizant  cognizant-technology-solutions   \n",
       "3                       940  ...  ICICI Bank                      icici_bank   \n",
       "4                      1819  ...       Wipro                           wipro   \n",
       "\n",
       "             HQCountry                   Headquarters CompanyJobsLive  \\\n",
       "0                India             Mumbai,Maharashtra              55   \n",
       "1              Ireland                  Dublin,Dublin            7294   \n",
       "2  United States (USA)             Teaneck,New Jersey             316   \n",
       "3                India             Mumbai,Maharashtra             150   \n",
       "4                India  Bangalore/Bengaluru,Karnataka             520   \n",
       "\n",
       "   HQUrlName CompanyId  LocationCount  \\\n",
       "0     mumbai        42            240   \n",
       "1        NaN       273            132   \n",
       "2        NaN        43             88   \n",
       "3     mumbai       134            995   \n",
       "4  bengaluru        44            254   \n",
       "\n",
       "                                     Industry Subscribed  \n",
       "0  BPO / Call Centre,IT Services & Consulting          0  \n",
       "1   IT Services & Consulting,Software Product          0  \n",
       "2                    IT Services & Consulting          0  \n",
       "3                  Financial Services,Banking          0  \n",
       "4                    IT Services & Consulting          0  \n",
       "\n",
       "[5 rows x 21 columns]"
      ]
     },
     "execution_count": 87,
     "metadata": {},
     "output_type": "execute_result"
    }
   ],
   "source": [
    "df = pd.read_csv('raw data/raw data.csv')\n",
    "df.rename(columns={'headquaters': 'Headquarters', 'location_count': 'LocationCount', 'industry_string': 'Industry' }, inplace=True)\n",
    "df.head()\n"
   ]
  },
  {
   "cell_type": "code",
   "execution_count": 88,
   "metadata": {},
   "outputs": [
    {
     "name": "stdout",
     "output_type": "stream",
     "text": [
      "<class 'pandas.core.frame.DataFrame'>\n",
      "RangeIndex: 9988 entries, 0 to 9987\n",
      "Data columns (total 21 columns):\n",
      " #   Column                    Non-Null Count  Dtype  \n",
      "---  ------                    --------------  -----  \n",
      " 0   Unnamed: 0                9988 non-null   int64  \n",
      " 1   TotalEmployees            9158 non-null   object \n",
      " 2   TotalEmployeesIndia       8364 non-null   object \n",
      " 3   Rating                    9988 non-null   float64\n",
      " 4   UrlName                   9988 non-null   object \n",
      " 5   CompanyType               8423 non-null   object \n",
      " 6   Name                      9988 non-null   object \n",
      " 7   CompanyReviewsLive        9988 non-null   int64  \n",
      " 8   CompanySalaries           9988 non-null   int64  \n",
      " 9   InterviewExperiencesLive  9988 non-null   int64  \n",
      " 10  Age                       9988 non-null   int64  \n",
      " 11  ShortName                 9988 non-null   object \n",
      " 12  Logo                      9639 non-null   object \n",
      " 13  HQCountry                 9625 non-null   object \n",
      " 14  Headquarters              9673 non-null   object \n",
      " 15  CompanyJobsLive           9988 non-null   int64  \n",
      " 16  HQUrlName                 6250 non-null   object \n",
      " 17  CompanyId                 9988 non-null   int64  \n",
      " 18  LocationCount             9988 non-null   int64  \n",
      " 19  Industry                  9870 non-null   object \n",
      " 20  Subscribed                9988 non-null   int64  \n",
      "dtypes: float64(1), int64(9), object(11)\n",
      "memory usage: 1.6+ MB\n"
     ]
    }
   ],
   "source": [
    "df.info()"
   ]
  },
  {
   "cell_type": "markdown",
   "metadata": {},
   "source": [
    "Xóa những cột không cần thiết cho mô hình dự đoán"
   ]
  },
  {
   "cell_type": "code",
   "execution_count": 89,
   "metadata": {},
   "outputs": [],
   "source": [
    "df.drop(['Unnamed: 0', 'UrlName', 'ShortName', 'Logo', 'HQUrlName',\n",
    "        'CompanyId', 'Subscribed'], axis=1, inplace=True)\n"
   ]
  },
  {
   "cell_type": "code",
   "execution_count": 90,
   "metadata": {},
   "outputs": [
    {
     "name": "stdout",
     "output_type": "stream",
     "text": [
      "<class 'pandas.core.frame.DataFrame'>\n",
      "RangeIndex: 9988 entries, 0 to 9987\n",
      "Data columns (total 14 columns):\n",
      " #   Column                    Non-Null Count  Dtype  \n",
      "---  ------                    --------------  -----  \n",
      " 0   TotalEmployees            9158 non-null   object \n",
      " 1   TotalEmployeesIndia       8364 non-null   object \n",
      " 2   Rating                    9988 non-null   float64\n",
      " 3   CompanyType               8423 non-null   object \n",
      " 4   Name                      9988 non-null   object \n",
      " 5   CompanyReviewsLive        9988 non-null   int64  \n",
      " 6   CompanySalaries           9988 non-null   int64  \n",
      " 7   InterviewExperiencesLive  9988 non-null   int64  \n",
      " 8   Age                       9988 non-null   int64  \n",
      " 9   HQCountry                 9625 non-null   object \n",
      " 10  Headquarters              9673 non-null   object \n",
      " 11  CompanyJobsLive           9988 non-null   int64  \n",
      " 12  LocationCount             9988 non-null   int64  \n",
      " 13  Industry                  9870 non-null   object \n",
      "dtypes: float64(1), int64(6), object(7)\n",
      "memory usage: 1.1+ MB\n"
     ]
    }
   ],
   "source": [
    "df.info()"
   ]
  },
  {
   "cell_type": "markdown",
   "metadata": {},
   "source": [
    "## TotalEmployees and TotalEmployeesIndia"
   ]
  },
  {
   "cell_type": "markdown",
   "metadata": {},
   "source": [
    "Xuất ra các giá trị độc nhất của cột Total Employees"
   ]
  },
  {
   "cell_type": "code",
   "execution_count": 91,
   "metadata": {},
   "outputs": [
    {
     "data": {
      "text/plain": [
       "array(['100001+', '50001-100000', '10001-50000', '5001-10000',\n",
       "       '1001-5000', nan, '39576', '501-1000', '201-500', '51-200',\n",
       "       '11-50', '10000+', '1-10', '94072'], dtype=object)"
      ]
     },
     "execution_count": 91,
     "metadata": {},
     "output_type": "execute_result"
    }
   ],
   "source": [
    "df.TotalEmployees.unique()"
   ]
  },
  {
   "cell_type": "markdown",
   "metadata": {},
   "source": [
    "Xuất ra các giá trị độc nhất của cột Total Employees India"
   ]
  },
  {
   "cell_type": "code",
   "execution_count": 92,
   "metadata": {},
   "outputs": [
    {
     "data": {
      "text/plain": [
       "array(['100001+', '50001-100000', '10001-50000', '5001-10000',\n",
       "       '1001-5000', '201-500', nan, '501-1000', '11-50', '51-200', '1-10'],\n",
       "      dtype=object)"
      ]
     },
     "execution_count": 92,
     "metadata": {},
     "output_type": "execute_result"
    }
   ],
   "source": [
    "df.TotalEmployeesIndia.unique()"
   ]
  },
  {
   "cell_type": "markdown",
   "metadata": {},
   "source": [
    "Hàm làm sạch giá trị của cột Total Employees và Total Employees India"
   ]
  },
  {
   "cell_type": "code",
   "execution_count": 93,
   "metadata": {},
   "outputs": [],
   "source": [
    "def clean_total_employees(x):\n",
    "    x = str(x)\n",
    "    if x == 'nan':\n",
    "        return None\n",
    "    if '+' in x:\n",
    "        return int(x.split('+')[0])\n",
    "    elif '-' in x:\n",
    "        return int(int(x.split('-')[0]) + int(x.split('-')[1]) / 2)\n",
    "    else:\n",
    "        return int(x)"
   ]
  },
  {
   "cell_type": "code",
   "execution_count": 94,
   "metadata": {},
   "outputs": [
    {
     "data": {
      "text/plain": [
       "array([1.00001e+05, 3.50010e+04, 1.00010e+04, 3.50100e+03,         nan,\n",
       "       3.95760e+04, 1.00100e+03, 4.51000e+02, 1.51000e+02, 3.60000e+01,\n",
       "       1.00000e+04, 6.00000e+00, 9.40720e+04])"
      ]
     },
     "execution_count": 94,
     "metadata": {},
     "output_type": "execute_result"
    }
   ],
   "source": [
    "df.TotalEmployees = df.TotalEmployees.apply(clean_total_employees)\n",
    "df.TotalEmployees.unique()"
   ]
  },
  {
   "cell_type": "code",
   "execution_count": 95,
   "metadata": {},
   "outputs": [
    {
     "data": {
      "text/plain": [
       "array([1.00001e+05, 3.50010e+04, 1.00010e+04, 3.50100e+03, 4.51000e+02,\n",
       "               nan, 1.00100e+03, 3.60000e+01, 1.51000e+02, 6.00000e+00])"
      ]
     },
     "execution_count": 95,
     "metadata": {},
     "output_type": "execute_result"
    }
   ],
   "source": [
    "df.TotalEmployeesIndia = df.TotalEmployeesIndia.apply(clean_total_employees)\n",
    "df.TotalEmployeesIndia.unique()"
   ]
  },
  {
   "cell_type": "markdown",
   "metadata": {},
   "source": [
    "## CompanyType"
   ]
  },
  {
   "cell_type": "markdown",
   "metadata": {},
   "source": [
    "Đếm số lượng dữ liệu của loại công ty"
   ]
  },
  {
   "cell_type": "code",
   "execution_count": 96,
   "metadata": {},
   "outputs": [
    {
     "data": {
      "text/plain": [
       "Private    6171\n",
       "Public     1838\n",
       "LLP          43\n",
       "JV           24\n",
       "LLC          19\n",
       "           ... \n",
       "167012        1\n",
       "4656023       1\n",
       "4610381       1\n",
       "4617407       1\n",
       "4779713       1\n",
       "Name: CompanyType, Length: 268, dtype: int64"
      ]
     },
     "execution_count": 96,
     "metadata": {},
     "output_type": "execute_result"
    }
   ],
   "source": [
    "df.CompanyType.value_counts()"
   ]
  },
  {
   "cell_type": "markdown",
   "metadata": {},
   "source": [
    "Hàm làm sạch giá trị của cột CompanyType"
   ]
  },
  {
   "cell_type": "code",
   "execution_count": 97,
   "metadata": {},
   "outputs": [
    {
     "data": {
      "text/plain": [
       "Private                                     6171\n",
       "Public                                      1838\n",
       "LLP                                           43\n",
       "JV                                            24\n",
       "LLC                                           19\n",
       "NGO/NPO                                       17\n",
       "Partnership                                   11\n",
       "Govt Organisation                              6\n",
       "Other                                          4\n",
       "Sole Proprietorship                            2\n",
       "Central Public Sector Enterprises (CPSE)       1\n",
       "Conglomerate                                   1\n",
       "Proprietorship                                 1\n",
       "Sole proprietorship                            1\n",
       "One person company                             1\n",
       "Name: CompanyType, dtype: int64"
      ]
     },
     "execution_count": 97,
     "metadata": {},
     "output_type": "execute_result"
    }
   ],
   "source": [
    "def clean_company_type(x):\n",
    "    company_type = ['Public', 'Private', 'Partnership', 'JV', 'LLP', 'Govt Organisation',\n",
    "                    'Central Public Sector Enterprises (CPSE)', 'Conglomerate',\n",
    "                    'LLC', 'NGO/NPO', 'Other', 'Sole Proprietorship', 'Proprietorship', 'Sole proprietorship', 'One person company']\n",
    "    if x == 'nan':\n",
    "        return None\n",
    "    if x in company_type:\n",
    "        return x\n",
    "    return None\n",
    "\n",
    "\n",
    "df.CompanyType = df.CompanyType.apply(clean_company_type)\n",
    "df.CompanyType.value_counts()\n"
   ]
  },
  {
   "cell_type": "markdown",
   "metadata": {},
   "source": [
    "## HQCountry"
   ]
  },
  {
   "cell_type": "markdown",
   "metadata": {},
   "source": [
    "Đếm số lượng dữ liệu của công ty ở các nước"
   ]
  },
  {
   "cell_type": "code",
   "execution_count": 98,
   "metadata": {},
   "outputs": [
    {
     "data": {
      "text/plain": [
       "India                  7209\n",
       "United States (USA)     575\n",
       "United States           407\n",
       "Germany                 136\n",
       "Japan                    91\n",
       "                       ... \n",
       "Holland                   1\n",
       "Ireland{Republic}         1\n",
       "Korea                     1\n",
       "Republic of Korea         1\n",
       "Dubai                     1\n",
       "Name: HQCountry, Length: 94, dtype: int64"
      ]
     },
     "execution_count": 98,
     "metadata": {},
     "output_type": "execute_result"
    }
   ],
   "source": [
    "df.HQCountry.value_counts()"
   ]
  },
  {
   "cell_type": "markdown",
   "metadata": {},
   "source": [
    "Hàm làm sạch giá trị của cột HQCountry"
   ]
  },
  {
   "cell_type": "code",
   "execution_count": 99,
   "metadata": {},
   "outputs": [
    {
     "data": {
      "text/plain": [
       "India                  7209\n",
       "United States (USA)     575\n",
       "United States           407\n",
       "Germany                 136\n",
       "Japan                    91\n",
       "                       ... \n",
       "Holland                   1\n",
       "Ireland{Republic}         1\n",
       "Korea                     1\n",
       "Republic of Korea         1\n",
       "Dubai                     1\n",
       "Name: HQCountry, Length: 94, dtype: int64"
      ]
     },
     "execution_count": 99,
     "metadata": {},
     "output_type": "execute_result"
    }
   ],
   "source": [
    "def clean_country(x):\n",
    "    if x == 'nan':\n",
    "        return None\n",
    "    return x\n",
    "\n",
    "df.HQCountry = df.HQCountry.apply(clean_country)\n",
    "df.HQCountry.value_counts()"
   ]
  },
  {
   "cell_type": "markdown",
   "metadata": {},
   "source": [
    "## Headquarters"
   ]
  },
  {
   "cell_type": "markdown",
   "metadata": {},
   "source": [
    "Đếm số lượng dữ liệu vị trí các trụ sở chính"
   ]
  },
  {
   "cell_type": "code",
   "execution_count": 100,
   "metadata": {},
   "outputs": [
    {
     "data": {
      "text/plain": [
       "Mumbai,Maharashtra               990\n",
       "Mumbai                           471\n",
       "New Delhi                        351\n",
       "Bangalore/Bengaluru,Karnataka    339\n",
       "Chennai,Tamil Nadu               323\n",
       "                                ... \n",
       "Sao Paulo,Sao Paulo                1\n",
       "Virginia                           1\n",
       "Bothell,Washington                 1\n",
       "Lincoln,Nebraska                   1\n",
       "Ajmer                              1\n",
       "Name: Headquarters, Length: 1512, dtype: int64"
      ]
     },
     "execution_count": 100,
     "metadata": {},
     "output_type": "execute_result"
    }
   ],
   "source": [
    "df.Headquarters.value_counts()"
   ]
  },
  {
   "cell_type": "markdown",
   "metadata": {},
   "source": [
    "Hàm làm sạch giá trị của cột Headquarters"
   ]
  },
  {
   "cell_type": "code",
   "execution_count": 101,
   "metadata": {},
   "outputs": [
    {
     "data": {
      "text/plain": [
       "Mumbai          1462\n",
       "Chennai          468\n",
       "Delhi/NCR        394\n",
       "New Delhi        394\n",
       "Noida            382\n",
       "                ... \n",
       "Kolding            1\n",
       "Virginia           1\n",
       "Bothell            1\n",
       "Lincoln            1\n",
       "Ananthapuram       1\n",
       "Name: Headquarters, Length: 1163, dtype: int64"
      ]
     },
     "execution_count": 101,
     "metadata": {},
     "output_type": "execute_result"
    }
   ],
   "source": [
    "def clean_headquarter(x):\n",
    "    x = str(x)\n",
    "    if x == 'nan':\n",
    "        return None\n",
    "    x = x.split(',')[0]\n",
    "    return x\n",
    "\n",
    "df.Headquarters = df.Headquarters.apply(clean_headquarter)\n",
    "df.Headquarters.value_counts()"
   ]
  },
  {
   "cell_type": "markdown",
   "metadata": {},
   "source": [
    "## Industry"
   ]
  },
  {
   "cell_type": "code",
   "execution_count": 102,
   "metadata": {},
   "outputs": [
    {
     "data": {
      "text/plain": [
       "IT Services & Consulting                                                            517\n",
       "Engineering & Construction                                                          347\n",
       "Education / Training                                                                304\n",
       "Medical Services / Hospital                                                         238\n",
       "Financial Services                                                                  218\n",
       "                                                                                   ... \n",
       "Design,Gems & Jewellery,Import & Export                                               1\n",
       "Industrial Equipment / Machinery,Plastics / Rubber                                    1\n",
       "NGO / Social Services / Industry Associations,Government / Public Administration      1\n",
       "Beauty & Wellness,Food Processing,Retail                                              1\n",
       "Financial Services,Insurance,Government / Public Administration                       1\n",
       "Name: Industry, Length: 1850, dtype: int64"
      ]
     },
     "execution_count": 102,
     "metadata": {},
     "output_type": "execute_result"
    }
   ],
   "source": [
    "df.Industry.value_counts()"
   ]
  },
  {
   "cell_type": "code",
   "execution_count": 103,
   "metadata": {},
   "outputs": [
    {
     "data": {
      "text/plain": [
       "array(['BPO / Call Centre,IT Services & Consulting',\n",
       "       'IT Services & Consulting,Software Product',\n",
       "       'IT Services & Consulting', ..., 'Events / Live Entertainment',\n",
       "       'Architecture / Interior Design,Industrial Equipment / Machinery,Engineering & Construction',\n",
       "       'Financial Services,Insurance,Government / Public Administration'],\n",
       "      dtype=object)"
      ]
     },
     "execution_count": 103,
     "metadata": {},
     "output_type": "execute_result"
    }
   ],
   "source": [
    "df.Industry.unique()"
   ]
  },
  {
   "cell_type": "code",
   "execution_count": 104,
   "metadata": {},
   "outputs": [],
   "source": [
    "# def clean_industry(x):\n",
    "#     if x == 'nan':\n",
    "#         return None\n",
    "#     industry_list = [\n",
    "#         'IT Services & Consulting',\n",
    "#         'Engineering & Construction',\n",
    "#         'Education / Training',\n",
    "#         'Medical Services / Hospital',\n",
    "#         'Financial Services',\n",
    "#         'Pharmaceutical & Life Sciences',\n",
    "#         'IT Services & Consulting,Software Product',\n",
    "#         'Industrial Equipment / Machinery',\n",
    "#         'Power',\n",
    "#         'Recruitment / Staffing',\n",
    "#         'Auto Components',\n",
    "#         'Telecom / ISP']\n",
    "#     if x in industry_list:\n",
    "#         return x\n",
    "#     return None\n",
    "\n",
    "# df.Industry = df.Industry.apply(clean_industry)\n",
    "# df.Industry.value_counts()"
   ]
  },
  {
   "cell_type": "markdown",
   "metadata": {},
   "source": [
    "# Xử lý dữ liệu trống"
   ]
  },
  {
   "cell_type": "code",
   "execution_count": 105,
   "metadata": {},
   "outputs": [
    {
     "name": "stdout",
     "output_type": "stream",
     "text": [
      "<class 'pandas.core.frame.DataFrame'>\n",
      "RangeIndex: 9988 entries, 0 to 9987\n",
      "Data columns (total 14 columns):\n",
      " #   Column                    Non-Null Count  Dtype  \n",
      "---  ------                    --------------  -----  \n",
      " 0   TotalEmployees            9158 non-null   float64\n",
      " 1   TotalEmployeesIndia       8364 non-null   float64\n",
      " 2   Rating                    9988 non-null   float64\n",
      " 3   CompanyType               8140 non-null   object \n",
      " 4   Name                      9988 non-null   object \n",
      " 5   CompanyReviewsLive        9988 non-null   int64  \n",
      " 6   CompanySalaries           9988 non-null   int64  \n",
      " 7   InterviewExperiencesLive  9988 non-null   int64  \n",
      " 8   Age                       9988 non-null   int64  \n",
      " 9   HQCountry                 9625 non-null   object \n",
      " 10  Headquarters              9673 non-null   object \n",
      " 11  CompanyJobsLive           9988 non-null   int64  \n",
      " 12  LocationCount             9988 non-null   int64  \n",
      " 13  Industry                  9870 non-null   object \n",
      "dtypes: float64(3), int64(6), object(5)\n",
      "memory usage: 1.1+ MB\n"
     ]
    }
   ],
   "source": [
    "df.info()"
   ]
  },
  {
   "cell_type": "code",
   "execution_count": 106,
   "metadata": {},
   "outputs": [
    {
     "data": {
      "text/plain": [
       "TotalEmployees               830\n",
       "TotalEmployeesIndia         1624\n",
       "Rating                         0\n",
       "CompanyType                 1848\n",
       "Name                           0\n",
       "CompanyReviewsLive             0\n",
       "CompanySalaries                0\n",
       "InterviewExperiencesLive       0\n",
       "Age                            0\n",
       "HQCountry                    363\n",
       "Headquarters                 315\n",
       "CompanyJobsLive                0\n",
       "LocationCount                  0\n",
       "Industry                     118\n",
       "dtype: int64"
      ]
     },
     "execution_count": 106,
     "metadata": {},
     "output_type": "execute_result"
    }
   ],
   "source": [
    "df.isnull().sum()"
   ]
  },
  {
   "cell_type": "markdown",
   "metadata": {},
   "source": [
    "Hàm xử lý dữ liệu trống"
   ]
  },
  {
   "cell_type": "code",
   "execution_count": 107,
   "metadata": {},
   "outputs": [
    {
     "data": {
      "text/html": [
       "<div>\n",
       "<style scoped>\n",
       "    .dataframe tbody tr th:only-of-type {\n",
       "        vertical-align: middle;\n",
       "    }\n",
       "\n",
       "    .dataframe tbody tr th {\n",
       "        vertical-align: top;\n",
       "    }\n",
       "\n",
       "    .dataframe thead th {\n",
       "        text-align: right;\n",
       "    }\n",
       "</style>\n",
       "<table border=\"1\" class=\"dataframe\">\n",
       "  <thead>\n",
       "    <tr style=\"text-align: right;\">\n",
       "      <th></th>\n",
       "      <th>TotalEmployees</th>\n",
       "      <th>TotalEmployeesIndia</th>\n",
       "      <th>Rating</th>\n",
       "      <th>CompanyType</th>\n",
       "      <th>Name</th>\n",
       "      <th>CompanyReviewsLive</th>\n",
       "      <th>CompanySalaries</th>\n",
       "      <th>InterviewExperiencesLive</th>\n",
       "      <th>Age</th>\n",
       "      <th>HQCountry</th>\n",
       "      <th>Headquarters</th>\n",
       "      <th>CompanyJobsLive</th>\n",
       "      <th>LocationCount</th>\n",
       "      <th>Industry</th>\n",
       "    </tr>\n",
       "  </thead>\n",
       "  <tbody>\n",
       "    <tr>\n",
       "      <th>0</th>\n",
       "      <td>100001.0</td>\n",
       "      <td>100001.0</td>\n",
       "      <td>3.92</td>\n",
       "      <td>Public</td>\n",
       "      <td>Tata Consultancy Services</td>\n",
       "      <td>41589</td>\n",
       "      <td>394003</td>\n",
       "      <td>2783</td>\n",
       "      <td>54</td>\n",
       "      <td>India</td>\n",
       "      <td>Mumbai</td>\n",
       "      <td>55</td>\n",
       "      <td>240</td>\n",
       "      <td>BPO / Call Centre,IT Services &amp; Consulting</td>\n",
       "    </tr>\n",
       "    <tr>\n",
       "      <th>1</th>\n",
       "      <td>100001.0</td>\n",
       "      <td>100001.0</td>\n",
       "      <td>4.14</td>\n",
       "      <td>Public</td>\n",
       "      <td>Accenture</td>\n",
       "      <td>27770</td>\n",
       "      <td>268685</td>\n",
       "      <td>2177</td>\n",
       "      <td>33</td>\n",
       "      <td>Ireland</td>\n",
       "      <td>Dublin</td>\n",
       "      <td>7294</td>\n",
       "      <td>132</td>\n",
       "      <td>IT Services &amp; Consulting,Software Product</td>\n",
       "    </tr>\n",
       "    <tr>\n",
       "      <th>2</th>\n",
       "      <td>100001.0</td>\n",
       "      <td>100001.0</td>\n",
       "      <td>3.94</td>\n",
       "      <td>Private</td>\n",
       "      <td>Cognizant</td>\n",
       "      <td>25176</td>\n",
       "      <td>272214</td>\n",
       "      <td>1748</td>\n",
       "      <td>28</td>\n",
       "      <td>United States (USA)</td>\n",
       "      <td>Teaneck</td>\n",
       "      <td>316</td>\n",
       "      <td>88</td>\n",
       "      <td>IT Services &amp; Consulting</td>\n",
       "    </tr>\n",
       "    <tr>\n",
       "      <th>3</th>\n",
       "      <td>100001.0</td>\n",
       "      <td>100001.0</td>\n",
       "      <td>4.02</td>\n",
       "      <td>Public</td>\n",
       "      <td>ICICI Bank</td>\n",
       "      <td>32063</td>\n",
       "      <td>100049</td>\n",
       "      <td>940</td>\n",
       "      <td>28</td>\n",
       "      <td>India</td>\n",
       "      <td>Mumbai</td>\n",
       "      <td>150</td>\n",
       "      <td>995</td>\n",
       "      <td>Financial Services,Banking</td>\n",
       "    </tr>\n",
       "    <tr>\n",
       "      <th>4</th>\n",
       "      <td>100001.0</td>\n",
       "      <td>100001.0</td>\n",
       "      <td>3.93</td>\n",
       "      <td>Public</td>\n",
       "      <td>Wipro</td>\n",
       "      <td>23674</td>\n",
       "      <td>200635</td>\n",
       "      <td>1819</td>\n",
       "      <td>77</td>\n",
       "      <td>India</td>\n",
       "      <td>Bangalore/Bengaluru</td>\n",
       "      <td>520</td>\n",
       "      <td>254</td>\n",
       "      <td>IT Services &amp; Consulting</td>\n",
       "    </tr>\n",
       "  </tbody>\n",
       "</table>\n",
       "</div>"
      ],
      "text/plain": [
       "   TotalEmployees  TotalEmployeesIndia  Rating CompanyType  \\\n",
       "0        100001.0             100001.0    3.92      Public   \n",
       "1        100001.0             100001.0    4.14      Public   \n",
       "2        100001.0             100001.0    3.94     Private   \n",
       "3        100001.0             100001.0    4.02      Public   \n",
       "4        100001.0             100001.0    3.93      Public   \n",
       "\n",
       "                        Name  CompanyReviewsLive  CompanySalaries  \\\n",
       "0  Tata Consultancy Services               41589           394003   \n",
       "1                  Accenture               27770           268685   \n",
       "2                  Cognizant               25176           272214   \n",
       "3                 ICICI Bank               32063           100049   \n",
       "4                      Wipro               23674           200635   \n",
       "\n",
       "   InterviewExperiencesLive  Age            HQCountry         Headquarters  \\\n",
       "0                      2783   54                India               Mumbai   \n",
       "1                      2177   33              Ireland               Dublin   \n",
       "2                      1748   28  United States (USA)              Teaneck   \n",
       "3                       940   28                India               Mumbai   \n",
       "4                      1819   77                India  Bangalore/Bengaluru   \n",
       "\n",
       "   CompanyJobsLive  LocationCount                                    Industry  \n",
       "0               55            240  BPO / Call Centre,IT Services & Consulting  \n",
       "1             7294            132   IT Services & Consulting,Software Product  \n",
       "2              316             88                    IT Services & Consulting  \n",
       "3              150            995                  Financial Services,Banking  \n",
       "4              520            254                    IT Services & Consulting  "
      ]
     },
     "execution_count": 107,
     "metadata": {},
     "output_type": "execute_result"
    }
   ],
   "source": [
    "def median_imputation(data, column):\n",
    "    data[column] = data[column].fillna(data[column].median())\n",
    "    return data\n",
    "\n",
    "\n",
    "median_imputation(df, 'TotalEmployees')\n",
    "median_imputation(df, 'TotalEmployeesIndia')\n",
    "\n",
    "\n",
    "def arbitrary_imputation(data, column, list):\n",
    "    data[column] = data[column].fillna(\n",
    "        list[np.random.randint(0, len(list))])\n",
    "    return data\n",
    "\n",
    "\n",
    "company_type = df.CompanyType.dropna().unique().tolist()\n",
    "arbitrary_imputation(df, 'CompanyType', company_type)\n",
    "\n",
    "country = df.HQCountry.dropna().unique().tolist()\n",
    "arbitrary_imputation(df, 'HQCountry', country)\n",
    "\n",
    "headquarter = df.Headquarters.dropna().unique().tolist()\n",
    "arbitrary_imputation(df, 'Headquarters', headquarter)\n",
    "\n",
    "industry_list = df.Industry.dropna().unique().tolist()\n",
    "arbitrary_imputation(df, 'Industry', industry_list)\n",
    "\n",
    "\n",
    "df.head()\n"
   ]
  },
  {
   "cell_type": "code",
   "execution_count": 108,
   "metadata": {},
   "outputs": [
    {
     "data": {
      "text/plain": [
       "TotalEmployees              0\n",
       "TotalEmployeesIndia         0\n",
       "Rating                      0\n",
       "CompanyType                 0\n",
       "Name                        0\n",
       "CompanyReviewsLive          0\n",
       "CompanySalaries             0\n",
       "InterviewExperiencesLive    0\n",
       "Age                         0\n",
       "HQCountry                   0\n",
       "Headquarters                0\n",
       "CompanyJobsLive             0\n",
       "LocationCount               0\n",
       "Industry                    0\n",
       "dtype: int64"
      ]
     },
     "execution_count": 108,
     "metadata": {},
     "output_type": "execute_result"
    }
   ],
   "source": [
    "df.isnull().sum()"
   ]
  },
  {
   "cell_type": "code",
   "execution_count": 109,
   "metadata": {},
   "outputs": [
    {
     "data": {
      "text/plain": [
       "1    4946\n",
       "2    4829\n",
       "0     213\n",
       "Name: Rating, dtype: int64"
      ]
     },
     "execution_count": 109,
     "metadata": {},
     "output_type": "execute_result"
    }
   ],
   "source": [
    "def round_rating(x):\n",
    "    if x >= 0 and x < 3:\n",
    "        return 0\n",
    "    elif x >= 3 and x < 4:\n",
    "        return 1\n",
    "    else:\n",
    "        return 2\n",
    "\n",
    "df.Rating = df.Rating.apply(round_rating)\n",
    "df.Rating.value_counts()\n"
   ]
  },
  {
   "cell_type": "markdown",
   "metadata": {},
   "source": [
    "Xuất dữ liệu"
   ]
  },
  {
   "cell_type": "code",
   "execution_count": 110,
   "metadata": {},
   "outputs": [],
   "source": [
    "df.to_csv('clean-data/clean_data.csv', index=False)"
   ]
  },
  {
   "cell_type": "code",
   "execution_count": 111,
   "metadata": {},
   "outputs": [
    {
     "data": {
      "text/html": [
       "<div>\n",
       "<style scoped>\n",
       "    .dataframe tbody tr th:only-of-type {\n",
       "        vertical-align: middle;\n",
       "    }\n",
       "\n",
       "    .dataframe tbody tr th {\n",
       "        vertical-align: top;\n",
       "    }\n",
       "\n",
       "    .dataframe thead th {\n",
       "        text-align: right;\n",
       "    }\n",
       "</style>\n",
       "<table border=\"1\" class=\"dataframe\">\n",
       "  <thead>\n",
       "    <tr style=\"text-align: right;\">\n",
       "      <th></th>\n",
       "      <th>TotalEmployees</th>\n",
       "      <th>TotalEmployeesIndia</th>\n",
       "      <th>Rating</th>\n",
       "      <th>CompanyType</th>\n",
       "      <th>Name</th>\n",
       "      <th>CompanyReviewsLive</th>\n",
       "      <th>CompanySalaries</th>\n",
       "      <th>InterviewExperiencesLive</th>\n",
       "      <th>Age</th>\n",
       "      <th>HQCountry</th>\n",
       "      <th>Headquarters</th>\n",
       "      <th>CompanyJobsLive</th>\n",
       "      <th>LocationCount</th>\n",
       "      <th>Industry</th>\n",
       "    </tr>\n",
       "  </thead>\n",
       "  <tbody>\n",
       "    <tr>\n",
       "      <th>0</th>\n",
       "      <td>100001.0</td>\n",
       "      <td>100001.0</td>\n",
       "      <td>1</td>\n",
       "      <td>Public</td>\n",
       "      <td>Tata Consultancy Services</td>\n",
       "      <td>41589</td>\n",
       "      <td>394003</td>\n",
       "      <td>2783</td>\n",
       "      <td>54</td>\n",
       "      <td>India</td>\n",
       "      <td>Mumbai</td>\n",
       "      <td>55</td>\n",
       "      <td>240</td>\n",
       "      <td>BPO / Call Centre,IT Services &amp; Consulting</td>\n",
       "    </tr>\n",
       "    <tr>\n",
       "      <th>1</th>\n",
       "      <td>100001.0</td>\n",
       "      <td>100001.0</td>\n",
       "      <td>2</td>\n",
       "      <td>Public</td>\n",
       "      <td>Accenture</td>\n",
       "      <td>27770</td>\n",
       "      <td>268685</td>\n",
       "      <td>2177</td>\n",
       "      <td>33</td>\n",
       "      <td>Ireland</td>\n",
       "      <td>Dublin</td>\n",
       "      <td>7294</td>\n",
       "      <td>132</td>\n",
       "      <td>IT Services &amp; Consulting,Software Product</td>\n",
       "    </tr>\n",
       "    <tr>\n",
       "      <th>2</th>\n",
       "      <td>100001.0</td>\n",
       "      <td>100001.0</td>\n",
       "      <td>1</td>\n",
       "      <td>Private</td>\n",
       "      <td>Cognizant</td>\n",
       "      <td>25176</td>\n",
       "      <td>272214</td>\n",
       "      <td>1748</td>\n",
       "      <td>28</td>\n",
       "      <td>United States (USA)</td>\n",
       "      <td>Teaneck</td>\n",
       "      <td>316</td>\n",
       "      <td>88</td>\n",
       "      <td>IT Services &amp; Consulting</td>\n",
       "    </tr>\n",
       "    <tr>\n",
       "      <th>3</th>\n",
       "      <td>100001.0</td>\n",
       "      <td>100001.0</td>\n",
       "      <td>2</td>\n",
       "      <td>Public</td>\n",
       "      <td>ICICI Bank</td>\n",
       "      <td>32063</td>\n",
       "      <td>100049</td>\n",
       "      <td>940</td>\n",
       "      <td>28</td>\n",
       "      <td>India</td>\n",
       "      <td>Mumbai</td>\n",
       "      <td>150</td>\n",
       "      <td>995</td>\n",
       "      <td>Financial Services,Banking</td>\n",
       "    </tr>\n",
       "    <tr>\n",
       "      <th>4</th>\n",
       "      <td>100001.0</td>\n",
       "      <td>100001.0</td>\n",
       "      <td>1</td>\n",
       "      <td>Public</td>\n",
       "      <td>Wipro</td>\n",
       "      <td>23674</td>\n",
       "      <td>200635</td>\n",
       "      <td>1819</td>\n",
       "      <td>77</td>\n",
       "      <td>India</td>\n",
       "      <td>Bangalore/Bengaluru</td>\n",
       "      <td>520</td>\n",
       "      <td>254</td>\n",
       "      <td>IT Services &amp; Consulting</td>\n",
       "    </tr>\n",
       "    <tr>\n",
       "      <th>...</th>\n",
       "      <td>...</td>\n",
       "      <td>...</td>\n",
       "      <td>...</td>\n",
       "      <td>...</td>\n",
       "      <td>...</td>\n",
       "      <td>...</td>\n",
       "      <td>...</td>\n",
       "      <td>...</td>\n",
       "      <td>...</td>\n",
       "      <td>...</td>\n",
       "      <td>...</td>\n",
       "      <td>...</td>\n",
       "      <td>...</td>\n",
       "      <td>...</td>\n",
       "    </tr>\n",
       "    <tr>\n",
       "      <th>9983</th>\n",
       "      <td>1001.0</td>\n",
       "      <td>151.0</td>\n",
       "      <td>1</td>\n",
       "      <td>Private</td>\n",
       "      <td>Toshniwal Industries</td>\n",
       "      <td>46</td>\n",
       "      <td>165</td>\n",
       "      <td>2</td>\n",
       "      <td>63</td>\n",
       "      <td>India</td>\n",
       "      <td>Ajmer</td>\n",
       "      <td>12</td>\n",
       "      <td>3</td>\n",
       "      <td>Industrial Automation</td>\n",
       "    </tr>\n",
       "    <tr>\n",
       "      <th>9984</th>\n",
       "      <td>1001.0</td>\n",
       "      <td>151.0</td>\n",
       "      <td>2</td>\n",
       "      <td>Private</td>\n",
       "      <td>Indian Spinal Injuries Centre</td>\n",
       "      <td>46</td>\n",
       "      <td>155</td>\n",
       "      <td>2</td>\n",
       "      <td>29</td>\n",
       "      <td>India</td>\n",
       "      <td>New Delhi</td>\n",
       "      <td>1</td>\n",
       "      <td>1</td>\n",
       "      <td>Medical Services / Hospital</td>\n",
       "    </tr>\n",
       "    <tr>\n",
       "      <th>9985</th>\n",
       "      <td>451.0</td>\n",
       "      <td>1001.0</td>\n",
       "      <td>2</td>\n",
       "      <td>Private</td>\n",
       "      <td>BrahMos Aerospace</td>\n",
       "      <td>46</td>\n",
       "      <td>182</td>\n",
       "      <td>2</td>\n",
       "      <td>24</td>\n",
       "      <td>India</td>\n",
       "      <td>New Delhi</td>\n",
       "      <td>0</td>\n",
       "      <td>4</td>\n",
       "      <td>Airlines / Aviation / Aerospace,Defence &amp; Aero...</td>\n",
       "    </tr>\n",
       "    <tr>\n",
       "      <th>9986</th>\n",
       "      <td>1001.0</td>\n",
       "      <td>1001.0</td>\n",
       "      <td>1</td>\n",
       "      <td>Private</td>\n",
       "      <td>Paramount Group</td>\n",
       "      <td>46</td>\n",
       "      <td>182</td>\n",
       "      <td>0</td>\n",
       "      <td>27</td>\n",
       "      <td>India</td>\n",
       "      <td>Noida</td>\n",
       "      <td>0</td>\n",
       "      <td>5</td>\n",
       "      <td>Real Estate</td>\n",
       "    </tr>\n",
       "    <tr>\n",
       "      <th>9987</th>\n",
       "      <td>451.0</td>\n",
       "      <td>151.0</td>\n",
       "      <td>0</td>\n",
       "      <td>Private</td>\n",
       "      <td>Technopak Advisors</td>\n",
       "      <td>46</td>\n",
       "      <td>135</td>\n",
       "      <td>3</td>\n",
       "      <td>30</td>\n",
       "      <td>India</td>\n",
       "      <td>Gurgaon/Gurugram</td>\n",
       "      <td>0</td>\n",
       "      <td>7</td>\n",
       "      <td>Consulting,Management Consulting</td>\n",
       "    </tr>\n",
       "  </tbody>\n",
       "</table>\n",
       "<p>9988 rows × 14 columns</p>\n",
       "</div>"
      ],
      "text/plain": [
       "      TotalEmployees  TotalEmployeesIndia  Rating CompanyType  \\\n",
       "0           100001.0             100001.0       1      Public   \n",
       "1           100001.0             100001.0       2      Public   \n",
       "2           100001.0             100001.0       1     Private   \n",
       "3           100001.0             100001.0       2      Public   \n",
       "4           100001.0             100001.0       1      Public   \n",
       "...              ...                  ...     ...         ...   \n",
       "9983          1001.0                151.0       1     Private   \n",
       "9984          1001.0                151.0       2     Private   \n",
       "9985           451.0               1001.0       2     Private   \n",
       "9986          1001.0               1001.0       1     Private   \n",
       "9987           451.0                151.0       0     Private   \n",
       "\n",
       "                               Name  CompanyReviewsLive  CompanySalaries  \\\n",
       "0         Tata Consultancy Services               41589           394003   \n",
       "1                         Accenture               27770           268685   \n",
       "2                         Cognizant               25176           272214   \n",
       "3                        ICICI Bank               32063           100049   \n",
       "4                             Wipro               23674           200635   \n",
       "...                             ...                 ...              ...   \n",
       "9983           Toshniwal Industries                  46              165   \n",
       "9984  Indian Spinal Injuries Centre                  46              155   \n",
       "9985              BrahMos Aerospace                  46              182   \n",
       "9986                Paramount Group                  46              182   \n",
       "9987             Technopak Advisors                  46              135   \n",
       "\n",
       "      InterviewExperiencesLive  Age            HQCountry         Headquarters  \\\n",
       "0                         2783   54                India               Mumbai   \n",
       "1                         2177   33              Ireland               Dublin   \n",
       "2                         1748   28  United States (USA)              Teaneck   \n",
       "3                          940   28                India               Mumbai   \n",
       "4                         1819   77                India  Bangalore/Bengaluru   \n",
       "...                        ...  ...                  ...                  ...   \n",
       "9983                         2   63                India                Ajmer   \n",
       "9984                         2   29                India            New Delhi   \n",
       "9985                         2   24                India            New Delhi   \n",
       "9986                         0   27                India                Noida   \n",
       "9987                         3   30                India     Gurgaon/Gurugram   \n",
       "\n",
       "      CompanyJobsLive  LocationCount  \\\n",
       "0                  55            240   \n",
       "1                7294            132   \n",
       "2                 316             88   \n",
       "3                 150            995   \n",
       "4                 520            254   \n",
       "...               ...            ...   \n",
       "9983               12              3   \n",
       "9984                1              1   \n",
       "9985                0              4   \n",
       "9986                0              5   \n",
       "9987                0              7   \n",
       "\n",
       "                                               Industry  \n",
       "0            BPO / Call Centre,IT Services & Consulting  \n",
       "1             IT Services & Consulting,Software Product  \n",
       "2                              IT Services & Consulting  \n",
       "3                            Financial Services,Banking  \n",
       "4                              IT Services & Consulting  \n",
       "...                                                 ...  \n",
       "9983                              Industrial Automation  \n",
       "9984                        Medical Services / Hospital  \n",
       "9985  Airlines / Aviation / Aerospace,Defence & Aero...  \n",
       "9986                                        Real Estate  \n",
       "9987                   Consulting,Management Consulting  \n",
       "\n",
       "[9988 rows x 14 columns]"
      ]
     },
     "execution_count": 111,
     "metadata": {},
     "output_type": "execute_result"
    }
   ],
   "source": [
    "df"
   ]
  },
  {
   "cell_type": "code",
   "execution_count": 112,
   "metadata": {},
   "outputs": [
    {
     "data": {
      "text/plain": [
       "<AxesSubplot:ylabel='Rating'>"
      ]
     },
     "execution_count": 112,
     "metadata": {},
     "output_type": "execute_result"
    },
    {
     "data": {
      "image/png": "[encoded data removed]",
      "text/plain": [
       "<Figure size 576x576 with 1 Axes>"
      ]
     },
     "metadata": {},
     "output_type": "display_data"
    }
   ],
   "source": [
    "df[\"Rating\"].value_counts().plot.pie(figsize=(8,8), shadow=True, autopct=\"%1.2f%%\")"
   ]
  }
 ],
 "metadata": {
  "kernelspec": {
   "display_name": "Python 3.10.1 64-bit",
   "language": "python",
   "name": "python3"
  },
  "language_info": {
   "codemirror_mode": {
    "name": "ipython",
    "version": 3
   },
   "file_extension": ".py",
   "mimetype": "text/x-python",
   "name": "python",
   "nbconvert_exporter": "python",
   "pygments_lexer": "ipython3",
   "version": "3.10.1"
  },
  "orig_nbformat": 4,
  "vscode": {
   "interpreter": {
    "hash": "0d72b21489300652f2337cd7f80c57cc00ce6bbc92cf98d285c178d0a8ced433"
   }
  }
 },
 "nbformat": 4,
 "nbformat_minor": 2
}
