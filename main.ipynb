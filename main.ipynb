{
 "cells": [
  {
   "cell_type": "markdown",
   "metadata": {},
   "source": [
    "## Import các thư viện cần thiết"
   ]
  },
  {
   "cell_type": "code",
   "execution_count": 27,
   "metadata": {},
   "outputs": [],
   "source": [
    "from sklearn.model_selection import (train_test_split, cross_val_score, GridSearchCV)\n",
    "from sklearn.metrics import accuracy_score, confusion_matrix\n",
    "from sklearn.ensemble import RandomForestClassifier\n",
    "from sklearn.preprocessing import StandardScaler\n",
    "import matplotlib.pyplot as plt\n",
    "from sklearn.svm import SVC\n",
    "import seaborn as sns\n",
    "import pandas as pd\n",
    "import numpy as np\n",
    "\n",
    "np.random.seed(561)\n",
    "sns.set(rc={\"figure.figsize\":(10, 8)})"
   ]
  },
  {
   "cell_type": "markdown",
   "metadata": {},
   "source": [
    "## Đọc dữ liệu"
   ]
  },
  {
   "cell_type": "code",
   "execution_count": 28,
   "metadata": {},
   "outputs": [
    {
     "data": {
      "text/html": [
       "<div>\n",
       "<style scoped>\n",
       "    .dataframe tbody tr th:only-of-type {\n",
       "        vertical-align: middle;\n",
       "    }\n",
       "\n",
       "    .dataframe tbody tr th {\n",
       "        vertical-align: top;\n",
       "    }\n",
       "\n",
       "    .dataframe thead th {\n",
       "        text-align: right;\n",
       "    }\n",
       "</style>\n",
       "<table border=\"1\" class=\"dataframe\">\n",
       "  <thead>\n",
       "    <tr style=\"text-align: right;\">\n",
       "      <th></th>\n",
       "      <th>TotalEmployees</th>\n",
       "      <th>TotalEmployeesIndia</th>\n",
       "      <th>Rating</th>\n",
       "      <th>CompanyType</th>\n",
       "      <th>Name</th>\n",
       "      <th>CompanyReviewsLive</th>\n",
       "      <th>CompanySalaries</th>\n",
       "      <th>InterviewExperiencesLive</th>\n",
       "      <th>Age</th>\n",
       "      <th>HQCountry</th>\n",
       "      <th>Headquarters</th>\n",
       "      <th>CompanyJobsLive</th>\n",
       "      <th>LocationCount</th>\n",
       "      <th>Industry</th>\n",
       "    </tr>\n",
       "  </thead>\n",
       "  <tbody>\n",
       "    <tr>\n",
       "      <th>0</th>\n",
       "      <td>100001.0</td>\n",
       "      <td>100001.0</td>\n",
       "      <td>1</td>\n",
       "      <td>Public</td>\n",
       "      <td>Tata Consultancy Services</td>\n",
       "      <td>41589</td>\n",
       "      <td>394003</td>\n",
       "      <td>2783</td>\n",
       "      <td>54</td>\n",
       "      <td>India</td>\n",
       "      <td>Mumbai</td>\n",
       "      <td>55</td>\n",
       "      <td>240</td>\n",
       "      <td>BPO / Call Centre,IT Services &amp; Consulting</td>\n",
       "    </tr>\n",
       "    <tr>\n",
       "      <th>1</th>\n",
       "      <td>100001.0</td>\n",
       "      <td>100001.0</td>\n",
       "      <td>2</td>\n",
       "      <td>Public</td>\n",
       "      <td>Accenture</td>\n",
       "      <td>27770</td>\n",
       "      <td>268685</td>\n",
       "      <td>2177</td>\n",
       "      <td>33</td>\n",
       "      <td>Ireland</td>\n",
       "      <td>Dublin</td>\n",
       "      <td>7294</td>\n",
       "      <td>132</td>\n",
       "      <td>IT Services &amp; Consulting,Software Product</td>\n",
       "    </tr>\n",
       "    <tr>\n",
       "      <th>2</th>\n",
       "      <td>100001.0</td>\n",
       "      <td>100001.0</td>\n",
       "      <td>1</td>\n",
       "      <td>Private</td>\n",
       "      <td>Cognizant</td>\n",
       "      <td>25176</td>\n",
       "      <td>272214</td>\n",
       "      <td>1748</td>\n",
       "      <td>28</td>\n",
       "      <td>United States (USA)</td>\n",
       "      <td>Teaneck</td>\n",
       "      <td>316</td>\n",
       "      <td>88</td>\n",
       "      <td>IT Services &amp; Consulting</td>\n",
       "    </tr>\n",
       "    <tr>\n",
       "      <th>3</th>\n",
       "      <td>100001.0</td>\n",
       "      <td>100001.0</td>\n",
       "      <td>2</td>\n",
       "      <td>Public</td>\n",
       "      <td>ICICI Bank</td>\n",
       "      <td>32063</td>\n",
       "      <td>100049</td>\n",
       "      <td>940</td>\n",
       "      <td>28</td>\n",
       "      <td>India</td>\n",
       "      <td>Mumbai</td>\n",
       "      <td>150</td>\n",
       "      <td>995</td>\n",
       "      <td>Financial Services,Banking</td>\n",
       "    </tr>\n",
       "    <tr>\n",
       "      <th>4</th>\n",
       "      <td>100001.0</td>\n",
       "      <td>100001.0</td>\n",
       "      <td>1</td>\n",
       "      <td>Public</td>\n",
       "      <td>Wipro</td>\n",
       "      <td>23674</td>\n",
       "      <td>200635</td>\n",
       "      <td>1819</td>\n",
       "      <td>77</td>\n",
       "      <td>India</td>\n",
       "      <td>Bangalore/Bengaluru</td>\n",
       "      <td>520</td>\n",
       "      <td>254</td>\n",
       "      <td>IT Services &amp; Consulting</td>\n",
       "    </tr>\n",
       "  </tbody>\n",
       "</table>\n",
       "</div>"
      ],
      "text/plain": [
       "   TotalEmployees  TotalEmployeesIndia  Rating CompanyType  \\\n",
       "0        100001.0             100001.0       1      Public   \n",
       "1        100001.0             100001.0       2      Public   \n",
       "2        100001.0             100001.0       1     Private   \n",
       "3        100001.0             100001.0       2      Public   \n",
       "4        100001.0             100001.0       1      Public   \n",
       "\n",
       "                        Name  CompanyReviewsLive  CompanySalaries  \\\n",
       "0  Tata Consultancy Services               41589           394003   \n",
       "1                  Accenture               27770           268685   \n",
       "2                  Cognizant               25176           272214   \n",
       "3                 ICICI Bank               32063           100049   \n",
       "4                      Wipro               23674           200635   \n",
       "\n",
       "   InterviewExperiencesLive  Age            HQCountry         Headquarters  \\\n",
       "0                      2783   54                India               Mumbai   \n",
       "1                      2177   33              Ireland               Dublin   \n",
       "2                      1748   28  United States (USA)              Teaneck   \n",
       "3                       940   28                India               Mumbai   \n",
       "4                      1819   77                India  Bangalore/Bengaluru   \n",
       "\n",
       "   CompanyJobsLive  LocationCount                                    Industry  \n",
       "0               55            240  BPO / Call Centre,IT Services & Consulting  \n",
       "1             7294            132   IT Services & Consulting,Software Product  \n",
       "2              316             88                    IT Services & Consulting  \n",
       "3              150            995                  Financial Services,Banking  \n",
       "4              520            254                    IT Services & Consulting  "
      ]
     },
     "execution_count": 28,
     "metadata": {},
     "output_type": "execute_result"
    }
   ],
   "source": [
    "dataset = pd.read_csv(\"./clean-data/clean_data.csv\")\n",
    "dataset.head()"
   ]
  },
  {
   "cell_type": "code",
   "execution_count": 29,
   "metadata": {},
   "outputs": [
    {
     "name": "stdout",
     "output_type": "stream",
     "text": [
      "Kích thước dataset :  (9988, 14)\n"
     ]
    }
   ],
   "source": [
    "print(\"Kích thước dataset : \", dataset.shape)"
   ]
  },
  {
   "cell_type": "markdown",
   "metadata": {},
   "source": [
    "## Phân bố các giá trị Rating"
   ]
  },
  {
   "cell_type": "code",
   "execution_count": 30,
   "metadata": {},
   "outputs": [
    {
     "data": {
      "text/plain": [
       "<AxesSubplot:ylabel='Rating'>"
      ]
     },
     "execution_count": 30,
     "metadata": {},
     "output_type": "execute_result"
    },
    {
     "data": {
      "image/png": "[encoded data removed]",
      "text/plain": [
       "<Figure size 360x360 with 1 Axes>"
      ]
     },
     "metadata": {},
     "output_type": "display_data"
    }
   ],
   "source": [
    "dataset[\"Rating\"].value_counts().plot.pie(figsize=(5, 5), shadow=True, autopct=\"%1.2f%%\")"
   ]
  },
  {
   "cell_type": "markdown",
   "metadata": {},
   "source": [
    "Ta thấy lớp Rating 0 chiếm tỉ lệ rất nhỏ sẽ làm mô hình phân loại kém hiêu quả (kể cả khi áp dụng Resample) nên ta tiến hành loại bỏ và chỉ giữ lại hai lớp Rating 1 và 2 "
   ]
  },
  {
   "cell_type": "code",
   "execution_count": 31,
   "metadata": {},
   "outputs": [],
   "source": [
    "dataset.drop(dataset[dataset[\"Rating\"] == 0].index, inplace=True)"
   ]
  },
  {
   "cell_type": "code",
   "execution_count": 32,
   "metadata": {},
   "outputs": [
    {
     "data": {
      "text/plain": [
       "<AxesSubplot:ylabel='Rating'>"
      ]
     },
     "execution_count": 32,
     "metadata": {},
     "output_type": "execute_result"
    },
    {
     "data": {
      "image/png": "[encoded data removed]",
      "text/plain": [
       "<Figure size 360x360 with 1 Axes>"
      ]
     },
     "metadata": {},
     "output_type": "display_data"
    }
   ],
   "source": [
    "dataset[\"Rating\"].value_counts().plot.pie(figsize=(5, 5), shadow=True, autopct=\"%1.2f%%\")"
   ]
  },
  {
   "cell_type": "code",
   "execution_count": 33,
   "metadata": {},
   "outputs": [
    {
     "name": "stdout",
     "output_type": "stream",
     "text": [
      "Kích thước dataset mới :  (9775, 14)\n"
     ]
    }
   ],
   "source": [
    "print(\"Kích thước dataset mới : \", dataset.shape)"
   ]
  },
  {
   "cell_type": "markdown",
   "metadata": {},
   "source": [
    "## Chia dữ liệu Train / Test"
   ]
  },
  {
   "cell_type": "markdown",
   "metadata": {},
   "source": [
    "Chia theo tỉ lệ 20/80, stratify theo Potability để tỉ lệ nước uống được/không uống được bằng nhau ở 2 tập train và test"
   ]
  },
  {
   "cell_type": "code",
   "execution_count": 34,
   "metadata": {},
   "outputs": [
    {
     "data": {
      "text/plain": [
       "((7820, 8), (1955, 8))"
      ]
     },
     "execution_count": 34,
     "metadata": {},
     "output_type": "execute_result"
    }
   ],
   "source": [
    "X_columns = [\"TotalEmployees\", \"TotalEmployeesIndia\", \"CompanyReviewsLive\", \"CompanySalaries\", \n",
    "             \"InterviewExperiencesLive\", \"Age\", \"CompanyJobsLive\", \"LocationCount\"]\n",
    "Y_columns = \"Rating\"\n",
    "\n",
    "X_train, X_test, Y_train, Y_test = train_test_split(dataset[X_columns].fillna(0),\n",
    "                                                    dataset[Y_columns],\n",
    "                                                    test_size=0.2, \n",
    "                                                    stratify=dataset[Y_columns],\n",
    "                                                    random_state=42)\n",
    "\n",
    "X_train.shape, X_test.shape"
   ]
  },
  {
   "cell_type": "markdown",
   "metadata": {},
   "source": [
    "Tỉ lệ các lớp Rating 2 tập train và test"
   ]
  },
  {
   "cell_type": "code",
   "execution_count": 35,
   "metadata": {},
   "outputs": [
    {
     "data": {
      "text/plain": [
       "<AxesSubplot:ylabel='Rating'>"
      ]
     },
     "execution_count": 35,
     "metadata": {},
     "output_type": "execute_result"
    },
    {
     "data": {
      "image/png": "[encoded data removed]",
      "text/plain": [
       "<Figure size 576x576 with 2 Axes>"
      ]
     },
     "metadata": {},
     "output_type": "display_data"
    }
   ],
   "source": [
    "plt.subplot(1, 2, 1)\n",
    "Y_train.value_counts().plot.pie(figsize=(8, 8), shadow=True, autopct='%1.2f%%')\n",
    "\n",
    "plt.subplot(1, 2, 2)\n",
    "Y_test.value_counts().plot.pie(figsize=(8, 8), shadow=True, autopct='%1.2f%%')"
   ]
  },
  {
   "cell_type": "markdown",
   "metadata": {},
   "source": [
    "## Xử lý ngoại lệ trên tập Train"
   ]
  },
  {
   "cell_type": "code",
   "execution_count": 36,
   "metadata": {},
   "outputs": [],
   "source": [
    "def outliers_iqr(dataset, list_columns):\n",
    "    data = dataset.copy()\n",
    "    for col in list_columns:\n",
    "        quantile_1, quantitle_3 = np.percentile(data[col], [25, 75])\n",
    "        iqr = quantitle_3 - quantile_1\n",
    "        lower_bound = quantile_1 - (iqr * 1.5)\n",
    "        upper_bound = quantitle_3 + (iqr * 1.5)\n",
    "        data[col] = data[col].clip(lower_bound, upper_bound)\n",
    "    return data\n",
    "\n",
    "\n",
    "# Tập X_train gốc có xử lý ngoại lệ\n",
    "X_train_outlier = outliers_iqr(X_train, X_columns)"
   ]
  },
  {
   "cell_type": "markdown",
   "metadata": {},
   "source": [
    "## Chuẩn hóa Z-score"
   ]
  },
  {
   "cell_type": "markdown",
   "metadata": {},
   "source": [
    "Áp dụng chuẩn hóa bằng cách fit cho tập Train và dùng bộ tham số đó để transform cho cả tập Train và Test "
   ]
  },
  {
   "cell_type": "code",
   "execution_count": 37,
   "metadata": {},
   "outputs": [],
   "source": [
    "X_test_outlier = X_test.copy()\n",
    "\n",
    "# Chuẩn hóa tập Train gốc\n",
    "scaler = StandardScaler()\n",
    "scaler.fit(X_train)\n",
    "X_train = pd.DataFrame(scaler.transform(X_train), columns=X_train.columns)\n",
    "# Sử dụng lại chính scaler của tập Train để chuẩn hóa cho tập Test\n",
    "X_test = pd.DataFrame(scaler.transform(X_test), columns=X_test.columns)\n",
    "\n",
    "# Chuẩn hóa tập Train gốc có xử lý ngoại lệ\n",
    "scaler = StandardScaler()\n",
    "scaler.fit(X_train_outlier)\n",
    "X_train_outlier = pd.DataFrame(scaler.transform(X_train_outlier), columns=X_train_outlier.columns)\n",
    "X_test_outlier = pd.DataFrame(scaler.transform(X_test_outlier), columns=X_test_outlier.columns)"
   ]
  },
  {
   "cell_type": "markdown",
   "metadata": {},
   "source": [
    "## Format độ chính xác về %"
   ]
  },
  {
   "cell_type": "code",
   "execution_count": 38,
   "metadata": {},
   "outputs": [],
   "source": [
    "def acc(accuracy):\n",
    "    return f\"{round(accuracy*100, 2)} (%)\""
   ]
  },
  {
   "cell_type": "markdown",
   "metadata": {},
   "source": [
    "## Hyperparameter Tuning"
   ]
  },
  {
   "cell_type": "markdown",
   "metadata": {},
   "source": [
    "##### Sử dụng GridSearchCV với tham số cv = 5 để áp dụng 5-Fold Cross-Validation. Tương ứng với việc kiểm thử chéo 5 lần với tỉ lệ tập Train:Validation là 4:1"
   ]
  },
  {
   "cell_type": "markdown",
   "metadata": {},
   "source": [
    "## Random Forest"
   ]
  },
  {
   "cell_type": "markdown",
   "metadata": {},
   "source": [
    "Các siêu tham số ta đang xét : \n",
    "- n_estimators : số lượng cây quyết định được tạo ra trong thụât toán Rừng ngẫu nhiên\n",
    "- min_samples_leaf : số mẫu dữ liệu tối thiểu ở mỗi lá để xây dựng \"bộ câu hỏi\""
   ]
  },
  {
   "cell_type": "code",
   "execution_count": 39,
   "metadata": {},
   "outputs": [
    {
     "name": "stdout",
     "output_type": "stream",
     "text": [
      ">> X_train gốc : \n",
      "Best : 65.68 (%) using {'min_samples_leaf': 1, 'n_estimators': 400}\n",
      ">> X_train có xử lý ngoại lệ : \n",
      "Best : 65.13 (%) using {'min_samples_leaf': 2, 'n_estimators': 400}\n"
     ]
    }
   ],
   "source": [
    "def hyperparameter_tuning_rfc(XTrain, YTrain):\n",
    "    random_forest = RandomForestClassifier(random_state=42)\n",
    "    params = {\n",
    "        \"n_estimators\": [100, 200, 300, 400],\n",
    "        \"min_samples_leaf\": [1, 2, 10]\n",
    "    }\n",
    "    search = GridSearchCV(estimator=random_forest, param_grid=params, cv=5, n_jobs=-1)\n",
    "    search.fit(XTrain, YTrain)\n",
    "    # Kết quả Tuning tốt nhất\n",
    "    print(f\"Best : {acc(search.best_score_)} using {search.best_params_}\")\n",
    "    return search.best_params_\n",
    "\n",
    "\n",
    "print(\">> X_train gốc : \")\n",
    "best_params_rf_1 = hyperparameter_tuning_rfc(X_train, Y_train)\n",
    "print(\">> X_train có xử lý ngoại lệ : \")\n",
    "best_params_rf_2 = hyperparameter_tuning_rfc(X_train_outlier, Y_train)"
   ]
  },
  {
   "cell_type": "markdown",
   "metadata": {},
   "source": [
    "### Xây dựng model từ bộ siêu tham số tìm được"
   ]
  },
  {
   "cell_type": "code",
   "execution_count": 40,
   "metadata": {},
   "outputs": [
    {
     "name": "stdout",
     "output_type": "stream",
     "text": [
      ">> X_train gốc : \n",
      "66.04 (%)\n",
      ">> X_train có xử lý ngoại lệ : \n",
      "65.73 (%)\n"
     ]
    },
    {
     "data": {
      "image/png": "[encoded data removed]",
      "text/plain": [
       "<Figure size 432x360 with 2 Axes>"
      ]
     },
     "metadata": {},
     "output_type": "display_data"
    },
    {
     "data": {
      "image/png": "[encoded data removed]",
      "text/plain": [
       "<Figure size 432x360 with 2 Axes>"
      ]
     },
     "metadata": {},
     "output_type": "display_data"
    }
   ],
   "source": [
    "def RF_Model(XTrain, YTrain, XTest, YTest,best_params):\n",
    "    random_forest = RandomForestClassifier(n_estimators=best_params[\"n_estimators\"],\n",
    "                                           min_samples_leaf=best_params[\"min_samples_leaf\"],\n",
    "                                           random_state=42)\n",
    "    random_forest.fit(XTrain,YTrain)\n",
    "    Y_pred = random_forest.predict(XTest)\n",
    "\n",
    "    plt.figure(figsize=(6, 5))\n",
    "    sns.heatmap(confusion_matrix(YTest, Y_pred), cmap=\"YlGnBu\", annot=True, fmt='g')\n",
    "    print(acc(accuracy_score(YTest,Y_pred)))\n",
    "\n",
    "\n",
    "print(\">> X_train gốc : \")\n",
    "RF_Model(X_train, Y_train, X_test, Y_test, best_params_rf_1)\n",
    "print(\">> X_train có xử lý ngoại lệ : \")\n",
    "RF_Model(X_train_outlier, Y_train, X_test_outlier, Y_test, best_params_rf_2)"
   ]
  },
  {
   "cell_type": "markdown",
   "metadata": {},
   "source": [
    "## SVM"
   ]
  },
  {
   "cell_type": "markdown",
   "metadata": {},
   "source": [
    "Các siêu tham số ta đang xét : \n",
    "- C :  tham số chính quy. C tỉ lệ nghịch với độ lớn của hàm trừng phạt (penalty) L2\n",
    "- kernel : loại kernel được sử dụng để tìm siêu phẳng phân chia các lớp\n",
    "- gamma : hệ số kernel cho các loại kernel : rbf, poly, sigmoid"
   ]
  },
  {
   "cell_type": "code",
   "execution_count": 41,
   "metadata": {},
   "outputs": [
    {
     "name": "stdout",
     "output_type": "stream",
     "text": [
      ">> X_train gốc : \n",
      "Best : 59.48 (%) using {'C': 10, 'gamma': 'scale', 'kernel': 'rbf'}\n",
      ">> X_train có xử lý ngoại lệ : \n",
      "Best : 60.86 (%) using {'C': 10, 'gamma': 'scale', 'kernel': 'rbf'}\n"
     ]
    }
   ],
   "source": [
    "def hyperparameter_tuning_svm(XTrain, YTrain):\n",
    "    svm_model = SVC()\n",
    "    params = {\n",
    "        'C': [0.1,1,10],\n",
    "        'gamma': ['scale','auto'],\n",
    "        'kernel': ['rbf','linear']\n",
    "    }\n",
    "    search = GridSearchCV(estimator=svm_model, param_grid=params, cv=5, n_jobs=-1)\n",
    "    search.fit(XTrain, YTrain)\n",
    "    # Kết quả Tuning tốt nhất\n",
    "    print(f\"Best : {acc(search.best_score_)} using {search.best_params_}\")\n",
    "    return search.best_params_\n",
    "\n",
    "\n",
    "print(\">> X_train gốc : \")\n",
    "best_params_svm_1 = hyperparameter_tuning_svm(X_train, Y_train)\n",
    "print(\">> X_train có xử lý ngoại lệ : \")\n",
    "best_params_svm_2 = hyperparameter_tuning_svm(X_train_outlier, Y_train)"
   ]
  },
  {
   "cell_type": "markdown",
   "metadata": {},
   "source": [
    "### Xây dựng model từ bộ siêu tham số tìm được"
   ]
  },
  {
   "cell_type": "code",
   "execution_count": 42,
   "metadata": {},
   "outputs": [
    {
     "name": "stdout",
     "output_type": "stream",
     "text": [
      ">> X_train gốc : \n",
      "61.74 (%)\n",
      ">> X_train có xử lý ngoại lệ : \n",
      "61.74 (%)\n"
     ]
    },
    {
     "data": {
      "image/png": "[encoded data removed]",
      "text/plain": [
       "<Figure size 432x360 with 2 Axes>"
      ]
     },
     "metadata": {},
     "output_type": "display_data"
    },
    {
     "data": {
      "image/png": "[encoded data removed]",
      "text/plain": [
       "<Figure size 432x360 with 2 Axes>"
      ]
     },
     "metadata": {},
     "output_type": "display_data"
    }
   ],
   "source": [
    "def SVM_Model(XTrain, YTrain, XTest, YTest, best_params):\n",
    "    svm_model = SVC(C=best_params[\"C\"],\n",
    "                    gamma=best_params[\"gamma\"],\n",
    "                    kernel=best_params[\"kernel\"])\n",
    "    svm_model.fit(XTrain, YTrain)\n",
    "    Y_pred = svm_model.predict(XTest)\n",
    "    \n",
    "    plt.figure(figsize=(6, 5))\n",
    "    sns.heatmap(confusion_matrix(YTest, Y_pred), cmap=\"YlGnBu\", annot=True, fmt='g')\n",
    "    print(acc(accuracy_score(YTest, Y_pred)))\n",
    "\n",
    "\n",
    "print(\">> X_train gốc : \")\n",
    "SVM_Model(X_train, Y_train, X_test, Y_test, best_params_svm_1)\n",
    "print(\">> X_train có xử lý ngoại lệ : \")\n",
    "SVM_Model(X_train, Y_train, X_test, Y_test, best_params_svm_2)"
   ]
  },
  {
   "cell_type": "markdown",
   "metadata": {},
   "source": [
    "## Huấn luyện lại Model trên toàn bộ dữ liệu ở 4 trường hợp"
   ]
  },
  {
   "cell_type": "code",
   "execution_count": 44,
   "metadata": {},
   "outputs": [
    {
     "name": "stdout",
     "output_type": "stream",
     "text": [
      ">> X_train gốc : \n",
      "66.37 (%)\n",
      ">> X_train gốc có xử lý ngoại lệ : \n",
      "65.71 (%)\n"
     ]
    }
   ],
   "source": [
    "# def cross_val_model(X, Y, best_params):\n",
    "#     model = RandomForestClassifier(\n",
    "#         n_estimators=best_params[\"n_estimators\"],\n",
    "#         min_samples_leaf=best_params[\"min_samples_leaf\"],\n",
    "#         random_state=42)\n",
    "#     scores = cross_val_score(model, X, Y, cv=5)\n",
    "#     print(acc(np.mean(scores)))\n",
    "\n",
    "\n",
    "# print(\">> X_train gốc : \")\n",
    "# cross_val_model(pd.concat([X_train, X_test]), pd.concat([Y_train, Y_test]), best_params_rf_1)\n",
    "# print(\">> X_train gốc có xử lý ngoại lệ : \")\n",
    "# cross_val_model(pd.concat([X_train_outlier, X_test_outlier]), pd.concat([Y_train, Y_test]), best_params_rf_2)\n"
   ]
  }
 ],
 "metadata": {
  "interpreter": {
   "hash": "aee8b7b246df8f9039afb4144a1f6fd8d2ca17a180786b69acc140d282b71a49"
  },
  "kernelspec": {
   "display_name": "Python 3.9.7 64-bit",
   "language": "python",
   "name": "python3"
  },
  "language_info": {
   "codemirror_mode": {
    "name": "ipython",
    "version": 3
   },
   "file_extension": ".py",
   "mimetype": "text/x-python",
   "name": "python",
   "nbconvert_exporter": "python",
   "pygments_lexer": "ipython3",
   "version": "3.9.7"
  },
  "orig_nbformat": 4
 },
 "nbformat": 4,
 "nbformat_minor": 2
}
